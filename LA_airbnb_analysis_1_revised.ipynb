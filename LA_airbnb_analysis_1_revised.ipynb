{
 "cells": [
  {
   "cell_type": "markdown",
   "metadata": {},
   "source": [
    "# Santa Monica Airbnb Data Analysis\n",
    "This is a notebook that contains an analysis of Airbnb data for LA that were compiled on Nov. 3, 2020, from http://insideairbnb.com/get-the-data.html\n",
    "The focus of this analysis is on the city of Santa Monica, where my husband and I live and host Airbnb ourselves. We are particularly interested in price/availability/amenities information in this area, and how price/availability are related to different features of the properties.  \n",
    "I will use the CRISP-DM process to outline this project."
   ]
  },
  {
   "cell_type": "markdown",
   "metadata": {},
   "source": [
    "## Business Understanding\n",
    "We would like to find ways (add more amenities, renovate our property, etc.) to improve our booking rate and (hopefully also) the price. In order to achieve this goal, the three questions I would like to ask in this analysis are:  \n",
    "(1) How the price/availability relate to the room type and bath type?  \n",
    "(2) What are the popular amenities offered by the hosts in Santa Monica?  \n",
    "(3) What are the most influential features to estimate the price/availability of a listing?"
   ]
  },
  {
   "cell_type": "markdown",
   "metadata": {},
   "source": [
    "## Data Understanding"
   ]
  },
  {
   "cell_type": "markdown",
   "metadata": {},
   "source": [
    "First, import the needed libraries and data"
   ]
  },
  {
   "cell_type": "code",
   "execution_count": 108,
   "metadata": {},
   "outputs": [],
   "source": [
    "import numpy as np\n",
    "import pandas as pd\n",
    "import matplotlib.pyplot as plt\n",
    "from sklearn.linear_model import LinearRegression\n",
    "from sklearn.model_selection import train_test_split\n",
    "from sklearn.metrics import r2_score, mean_squared_error\n",
    "import seaborn as sns\n",
    "from collections import defaultdict, Counter\n",
    "from sklearn.feature_selection import SelectKBest, f_regression\n",
    "import math\n",
    "%matplotlib inline"
   ]
  },
  {
   "cell_type": "code",
   "execution_count": 109,
   "metadata": {},
   "outputs": [
    {
     "data": {
      "text/html": [
       "<div>\n",
       "<style scoped>\n",
       "    .dataframe tbody tr th:only-of-type {\n",
       "        vertical-align: middle;\n",
       "    }\n",
       "\n",
       "    .dataframe tbody tr th {\n",
       "        vertical-align: top;\n",
       "    }\n",
       "\n",
       "    .dataframe thead th {\n",
       "        text-align: right;\n",
       "    }\n",
       "</style>\n",
       "<table border=\"1\" class=\"dataframe\">\n",
       "  <thead>\n",
       "    <tr style=\"text-align: right;\">\n",
       "      <th></th>\n",
       "      <th>id</th>\n",
       "      <th>listing_url</th>\n",
       "      <th>scrape_id</th>\n",
       "      <th>last_scraped</th>\n",
       "      <th>name</th>\n",
       "      <th>description</th>\n",
       "      <th>neighborhood_overview</th>\n",
       "      <th>picture_url</th>\n",
       "      <th>host_id</th>\n",
       "      <th>host_url</th>\n",
       "      <th>...</th>\n",
       "      <th>review_scores_communication</th>\n",
       "      <th>review_scores_location</th>\n",
       "      <th>review_scores_value</th>\n",
       "      <th>license</th>\n",
       "      <th>instant_bookable</th>\n",
       "      <th>calculated_host_listings_count</th>\n",
       "      <th>calculated_host_listings_count_entire_homes</th>\n",
       "      <th>calculated_host_listings_count_private_rooms</th>\n",
       "      <th>calculated_host_listings_count_shared_rooms</th>\n",
       "      <th>reviews_per_month</th>\n",
       "    </tr>\n",
       "  </thead>\n",
       "  <tbody>\n",
       "    <tr>\n",
       "      <th>0</th>\n",
       "      <td>109</td>\n",
       "      <td>https://www.airbnb.com/rooms/109</td>\n",
       "      <td>20201009145904</td>\n",
       "      <td>2020-10-25</td>\n",
       "      <td>Amazing bright elegant condo park front *UPGRA...</td>\n",
       "      <td>*** Unit upgraded with new bamboo flooring, br...</td>\n",
       "      <td>NaN</td>\n",
       "      <td>https://a0.muscache.com/pictures/4321499/1da98...</td>\n",
       "      <td>521</td>\n",
       "      <td>https://www.airbnb.com/users/show/521</td>\n",
       "      <td>...</td>\n",
       "      <td>8.0</td>\n",
       "      <td>10.0</td>\n",
       "      <td>8.0</td>\n",
       "      <td>NaN</td>\n",
       "      <td>f</td>\n",
       "      <td>1</td>\n",
       "      <td>1</td>\n",
       "      <td>0</td>\n",
       "      <td>0</td>\n",
       "      <td>0.02</td>\n",
       "    </tr>\n",
       "    <tr>\n",
       "      <th>1</th>\n",
       "      <td>2708</td>\n",
       "      <td>https://www.airbnb.com/rooms/2708</td>\n",
       "      <td>20201009145904</td>\n",
       "      <td>2020-10-10</td>\n",
       "      <td>Beautiful Furnish Mirrored Mini-Suite w/ Firep...</td>\n",
       "      <td>Beautiful Furnished Mirror Mini-Suite w/ Firep...</td>\n",
       "      <td>We are minutes away from the Mentor Language I...</td>\n",
       "      <td>https://a0.muscache.com/pictures/miso/Hosting-...</td>\n",
       "      <td>3008</td>\n",
       "      <td>https://www.airbnb.com/users/show/3008</td>\n",
       "      <td>...</td>\n",
       "      <td>10.0</td>\n",
       "      <td>10.0</td>\n",
       "      <td>10.0</td>\n",
       "      <td>NaN</td>\n",
       "      <td>t</td>\n",
       "      <td>2</td>\n",
       "      <td>0</td>\n",
       "      <td>2</td>\n",
       "      <td>0</td>\n",
       "      <td>0.35</td>\n",
       "    </tr>\n",
       "    <tr>\n",
       "      <th>2</th>\n",
       "      <td>2732</td>\n",
       "      <td>https://www.airbnb.com/rooms/2732</td>\n",
       "      <td>20201009145904</td>\n",
       "      <td>2020-10-18</td>\n",
       "      <td>Zen Life at the Beach</td>\n",
       "      <td>An oasis of tranquility awaits you.&lt;br /&gt;&lt;br /...</td>\n",
       "      <td>This is the best part of Santa Monica. Quiet, ...</td>\n",
       "      <td>https://a0.muscache.com/pictures/1082974/0f74c...</td>\n",
       "      <td>3041</td>\n",
       "      <td>https://www.airbnb.com/users/show/3041</td>\n",
       "      <td>...</td>\n",
       "      <td>9.0</td>\n",
       "      <td>10.0</td>\n",
       "      <td>9.0</td>\n",
       "      <td>228269</td>\n",
       "      <td>f</td>\n",
       "      <td>2</td>\n",
       "      <td>1</td>\n",
       "      <td>1</td>\n",
       "      <td>0</td>\n",
       "      <td>0.18</td>\n",
       "    </tr>\n",
       "    <tr>\n",
       "      <th>3</th>\n",
       "      <td>2864</td>\n",
       "      <td>https://www.airbnb.com/rooms/2864</td>\n",
       "      <td>20201009145904</td>\n",
       "      <td>2020-10-10</td>\n",
       "      <td>* Beautiful Master Suite/Jacuzzi Tub/*</td>\n",
       "      <td>Centrally located.... Furnished with King Size...</td>\n",
       "      <td>What makes the neighborhood unique is that the...</td>\n",
       "      <td>https://a0.muscache.com/pictures/23817858/de20...</td>\n",
       "      <td>3207</td>\n",
       "      <td>https://www.airbnb.com/users/show/3207</td>\n",
       "      <td>...</td>\n",
       "      <td>NaN</td>\n",
       "      <td>NaN</td>\n",
       "      <td>NaN</td>\n",
       "      <td>NaN</td>\n",
       "      <td>t</td>\n",
       "      <td>1</td>\n",
       "      <td>1</td>\n",
       "      <td>0</td>\n",
       "      <td>0</td>\n",
       "      <td>NaN</td>\n",
       "    </tr>\n",
       "    <tr>\n",
       "      <th>4</th>\n",
       "      <td>5729</td>\n",
       "      <td>https://www.airbnb.com/rooms/5729</td>\n",
       "      <td>20201009145904</td>\n",
       "      <td>2020-10-25</td>\n",
       "      <td>Zen Room with Floating Bed near Venice and LAX</td>\n",
       "      <td>Our home is located near Venice Beach without ...</td>\n",
       "      <td>Our neighborhood is very quiet and save. There...</td>\n",
       "      <td>https://a0.muscache.com/pictures/f48e3ea8-2075...</td>\n",
       "      <td>9171</td>\n",
       "      <td>https://www.airbnb.com/users/show/9171</td>\n",
       "      <td>...</td>\n",
       "      <td>10.0</td>\n",
       "      <td>10.0</td>\n",
       "      <td>9.0</td>\n",
       "      <td>NaN</td>\n",
       "      <td>f</td>\n",
       "      <td>4</td>\n",
       "      <td>1</td>\n",
       "      <td>3</td>\n",
       "      <td>0</td>\n",
       "      <td>1.69</td>\n",
       "    </tr>\n",
       "  </tbody>\n",
       "</table>\n",
       "<p>5 rows × 74 columns</p>\n",
       "</div>"
      ],
      "text/plain": [
       "     id                        listing_url       scrape_id last_scraped  \\\n",
       "0   109   https://www.airbnb.com/rooms/109  20201009145904   2020-10-25   \n",
       "1  2708  https://www.airbnb.com/rooms/2708  20201009145904   2020-10-10   \n",
       "2  2732  https://www.airbnb.com/rooms/2732  20201009145904   2020-10-18   \n",
       "3  2864  https://www.airbnb.com/rooms/2864  20201009145904   2020-10-10   \n",
       "4  5729  https://www.airbnb.com/rooms/5729  20201009145904   2020-10-25   \n",
       "\n",
       "                                                name  \\\n",
       "0  Amazing bright elegant condo park front *UPGRA...   \n",
       "1  Beautiful Furnish Mirrored Mini-Suite w/ Firep...   \n",
       "2                              Zen Life at the Beach   \n",
       "3             * Beautiful Master Suite/Jacuzzi Tub/*   \n",
       "4     Zen Room with Floating Bed near Venice and LAX   \n",
       "\n",
       "                                         description  \\\n",
       "0  *** Unit upgraded with new bamboo flooring, br...   \n",
       "1  Beautiful Furnished Mirror Mini-Suite w/ Firep...   \n",
       "2  An oasis of tranquility awaits you.<br /><br /...   \n",
       "3  Centrally located.... Furnished with King Size...   \n",
       "4  Our home is located near Venice Beach without ...   \n",
       "\n",
       "                               neighborhood_overview  \\\n",
       "0                                                NaN   \n",
       "1  We are minutes away from the Mentor Language I...   \n",
       "2  This is the best part of Santa Monica. Quiet, ...   \n",
       "3  What makes the neighborhood unique is that the...   \n",
       "4  Our neighborhood is very quiet and save. There...   \n",
       "\n",
       "                                         picture_url  host_id  \\\n",
       "0  https://a0.muscache.com/pictures/4321499/1da98...      521   \n",
       "1  https://a0.muscache.com/pictures/miso/Hosting-...     3008   \n",
       "2  https://a0.muscache.com/pictures/1082974/0f74c...     3041   \n",
       "3  https://a0.muscache.com/pictures/23817858/de20...     3207   \n",
       "4  https://a0.muscache.com/pictures/f48e3ea8-2075...     9171   \n",
       "\n",
       "                                 host_url  ... review_scores_communication  \\\n",
       "0   https://www.airbnb.com/users/show/521  ...                         8.0   \n",
       "1  https://www.airbnb.com/users/show/3008  ...                        10.0   \n",
       "2  https://www.airbnb.com/users/show/3041  ...                         9.0   \n",
       "3  https://www.airbnb.com/users/show/3207  ...                         NaN   \n",
       "4  https://www.airbnb.com/users/show/9171  ...                        10.0   \n",
       "\n",
       "  review_scores_location review_scores_value license instant_bookable  \\\n",
       "0                   10.0                 8.0     NaN                f   \n",
       "1                   10.0                10.0     NaN                t   \n",
       "2                   10.0                 9.0  228269                f   \n",
       "3                    NaN                 NaN     NaN                t   \n",
       "4                   10.0                 9.0     NaN                f   \n",
       "\n",
       "  calculated_host_listings_count calculated_host_listings_count_entire_homes  \\\n",
       "0                              1                                           1   \n",
       "1                              2                                           0   \n",
       "2                              2                                           1   \n",
       "3                              1                                           1   \n",
       "4                              4                                           1   \n",
       "\n",
       "  calculated_host_listings_count_private_rooms  \\\n",
       "0                                            0   \n",
       "1                                            2   \n",
       "2                                            1   \n",
       "3                                            0   \n",
       "4                                            3   \n",
       "\n",
       "  calculated_host_listings_count_shared_rooms reviews_per_month  \n",
       "0                                           0              0.02  \n",
       "1                                           0              0.35  \n",
       "2                                           0              0.18  \n",
       "3                                           0               NaN  \n",
       "4                                           0              1.69  \n",
       "\n",
       "[5 rows x 74 columns]"
      ]
     },
     "execution_count": 109,
     "metadata": {},
     "output_type": "execute_result"
    }
   ],
   "source": [
    "df = pd.read_csv('listings.csv')\n",
    "df.head()"
   ]
  },
  {
   "cell_type": "code",
   "execution_count": 110,
   "metadata": {},
   "outputs": [
    {
     "data": {
      "text/plain": [
       "(30533, 74)"
      ]
     },
     "execution_count": 110,
     "metadata": {},
     "output_type": "execute_result"
    }
   ],
   "source": [
    "df.shape"
   ]
  },
  {
   "cell_type": "markdown",
   "metadata": {},
   "source": [
    "So there are 30533 listings in LA in Nov, 2020, and there are 74 features. Let's take a look at the data type of these features."
   ]
  },
  {
   "cell_type": "code",
   "execution_count": 111,
   "metadata": {
    "scrolled": true
   },
   "outputs": [
    {
     "data": {
      "text/plain": [
       "object     35\n",
       "float64    22\n",
       "int64      17\n",
       "dtype: int64"
      ]
     },
     "execution_count": 111,
     "metadata": {},
     "output_type": "execute_result"
    }
   ],
   "source": [
    "df.dtypes.value_counts()"
   ]
  },
  {
   "cell_type": "markdown",
   "metadata": {},
   "source": [
    "Let's take a look at each data type. First, what columns contain \"object\" type?"
   ]
  },
  {
   "cell_type": "code",
   "execution_count": 112,
   "metadata": {},
   "outputs": [
    {
     "data": {
      "text/plain": [
       "Index(['listing_url', 'last_scraped', 'name', 'description',\n",
       "       'neighborhood_overview', 'picture_url', 'host_url', 'host_name',\n",
       "       'host_since', 'host_location', 'host_about', 'host_response_time',\n",
       "       'host_response_rate', 'host_acceptance_rate', 'host_is_superhost',\n",
       "       'host_thumbnail_url', 'host_picture_url', 'host_neighbourhood',\n",
       "       'host_verifications', 'host_has_profile_pic', 'host_identity_verified',\n",
       "       'neighbourhood', 'neighbourhood_cleansed',\n",
       "       'neighbourhood_group_cleansed', 'property_type', 'room_type',\n",
       "       'bathrooms_text', 'amenities', 'price', 'has_availability',\n",
       "       'calendar_last_scraped', 'first_review', 'last_review', 'license',\n",
       "       'instant_bookable'],\n",
       "      dtype='object')"
      ]
     },
     "execution_count": 112,
     "metadata": {},
     "output_type": "execute_result"
    }
   ],
   "source": [
    "# find the name of the columns which are objects data type\n",
    "df.select_dtypes('O').columns"
   ]
  },
  {
   "cell_type": "markdown",
   "metadata": {},
   "source": [
    "It's worthy noticing that \"price\" contains \"object\" type because it contains \"$\" and \",\". We need to convert the value of price into float data type later for further analysis.\n",
    "What columns contain \"float\" or \"int\" type?"
   ]
  },
  {
   "cell_type": "code",
   "execution_count": 113,
   "metadata": {
    "scrolled": true
   },
   "outputs": [
    {
     "data": {
      "text/plain": [
       "Index(['host_listings_count', 'host_total_listings_count', 'latitude',\n",
       "       'longitude', 'bathrooms', 'bedrooms', 'beds', 'minimum_minimum_nights',\n",
       "       'maximum_minimum_nights', 'minimum_maximum_nights',\n",
       "       'maximum_maximum_nights', 'minimum_nights_avg_ntm',\n",
       "       'maximum_nights_avg_ntm', 'calendar_updated', 'review_scores_rating',\n",
       "       'review_scores_accuracy', 'review_scores_cleanliness',\n",
       "       'review_scores_checkin', 'review_scores_communication',\n",
       "       'review_scores_location', 'review_scores_value', 'reviews_per_month'],\n",
       "      dtype='object')"
      ]
     },
     "execution_count": 113,
     "metadata": {},
     "output_type": "execute_result"
    }
   ],
   "source": [
    "# find the name of the columns which are float64 data type\n",
    "df.select_dtypes('float64').columns"
   ]
  },
  {
   "cell_type": "code",
   "execution_count": 114,
   "metadata": {},
   "outputs": [
    {
     "data": {
      "text/plain": [
       "Index(['id', 'scrape_id', 'host_id', 'accommodates', 'minimum_nights',\n",
       "       'maximum_nights', 'availability_30', 'availability_60',\n",
       "       'availability_90', 'availability_365', 'number_of_reviews',\n",
       "       'number_of_reviews_ltm', 'number_of_reviews_l30d',\n",
       "       'calculated_host_listings_count',\n",
       "       'calculated_host_listings_count_entire_homes',\n",
       "       'calculated_host_listings_count_private_rooms',\n",
       "       'calculated_host_listings_count_shared_rooms'],\n",
       "      dtype='object')"
      ]
     },
     "execution_count": 114,
     "metadata": {},
     "output_type": "execute_result"
    }
   ],
   "source": [
    "# find the name of the columns which are int64 data type\n",
    "df.select_dtypes('int64').columns"
   ]
  },
  {
   "cell_type": "markdown",
   "metadata": {},
   "source": [
    "## Data Preparation"
   ]
  },
  {
   "cell_type": "markdown",
   "metadata": {},
   "source": [
    "As mentioned, I want to focus on \"Santa Monica\" neighborhood. Thus in the following, I will select data from this particular neighborhood and name this new dataframe as \"SantaM\"."
   ]
  },
  {
   "cell_type": "code",
   "execution_count": 115,
   "metadata": {
    "scrolled": true
   },
   "outputs": [
    {
     "data": {
      "text/plain": [
       "(1116, 74)"
      ]
     },
     "execution_count": 115,
     "metadata": {},
     "output_type": "execute_result"
    }
   ],
   "source": [
    "SantaM = df[df.neighbourhood_cleansed=='Santa Monica']\n",
    "# make the index start with 0 for the new dataframe\n",
    "SantaM.index=range(len(SantaM))\n",
    "SantaM.shape"
   ]
  },
  {
   "cell_type": "markdown",
   "metadata": {},
   "source": [
    "So there are 1116 listings in Santa Monica in Nov. 2020. Then let's see among these listings, how many values are missing for each feature."
   ]
  },
  {
   "cell_type": "code",
   "execution_count": 116,
   "metadata": {
    "scrolled": true
   },
   "outputs": [
    {
     "data": {
      "text/plain": [
       "bathrooms                                       1116\n",
       "calendar_updated                                1116\n",
       "license                                          571\n",
       "neighborhood_overview                            431\n",
       "neighbourhood                                    431\n",
       "host_about                                       348\n",
       "review_scores_location                           272\n",
       "review_scores_checkin                            272\n",
       "review_scores_communication                      272\n",
       "review_scores_value                              272\n",
       "review_scores_cleanliness                        271\n",
       "review_scores_accuracy                           271\n",
       "review_scores_rating                             268\n",
       "last_review                                      263\n",
       "first_review                                     263\n",
       "reviews_per_month                                263\n",
       "host_response_rate                               163\n",
       "host_response_time                               163\n",
       "host_acceptance_rate                             142\n",
       "bedrooms                                         136\n",
       "host_neighbourhood                                83\n",
       "description                                       19\n",
       "beds                                               4\n",
       "bathrooms_text                                     2\n",
       "host_location                                      1\n",
       "availability_365                                   0\n",
       "calculated_host_listings_count                     0\n",
       "host_verifications                                 0\n",
       "host_total_listings_count                          0\n",
       "host_listings_count                                0\n",
       "host_picture_url                                   0\n",
       "host_thumbnail_url                                 0\n",
       "host_is_superhost                                  0\n",
       "number_of_reviews_l30d                             0\n",
       "instant_bookable                                   0\n",
       "calculated_host_listings_count_entire_homes        0\n",
       "host_identity_verified                             0\n",
       "host_since                                         0\n",
       "host_name                                          0\n",
       "host_url                                           0\n",
       "host_id                                            0\n",
       "picture_url                                        0\n",
       "calculated_host_listings_count_private_rooms       0\n",
       "name                                               0\n",
       "last_scraped                                       0\n",
       "scrape_id                                          0\n",
       "listing_url                                        0\n",
       "host_has_profile_pic                               0\n",
       "number_of_reviews_ltm                              0\n",
       "availability_90                                    0\n",
       "maximum_nights                                     0\n",
       "availability_60                                    0\n",
       "availability_30                                    0\n",
       "has_availability                                   0\n",
       "calendar_last_scraped                              0\n",
       "maximum_nights_avg_ntm                             0\n",
       "minimum_nights_avg_ntm                             0\n",
       "maximum_maximum_nights                             0\n",
       "minimum_maximum_nights                             0\n",
       "maximum_minimum_nights                             0\n",
       "minimum_minimum_nights                             0\n",
       "minimum_nights                                     0\n",
       "neighbourhood_cleansed                             0\n",
       "price                                              0\n",
       "amenities                                          0\n",
       "calculated_host_listings_count_shared_rooms        0\n",
       "number_of_reviews                                  0\n",
       "accommodates                                       0\n",
       "room_type                                          0\n",
       "property_type                                      0\n",
       "longitude                                          0\n",
       "latitude                                           0\n",
       "neighbourhood_group_cleansed                       0\n",
       "id                                                 0\n",
       "dtype: int64"
      ]
     },
     "execution_count": 116,
     "metadata": {},
     "output_type": "execute_result"
    }
   ],
   "source": [
    "pd.set_option('display.max_rows', 74)\n",
    "SantaM.isnull().sum().sort_values(ascending=False)"
   ]
  },
  {
   "cell_type": "markdown",
   "metadata": {},
   "source": [
    "We can drop \"bathrooms\" and \"calendar_updated\" columns, as all data points are missing. "
   ]
  },
  {
   "cell_type": "code",
   "execution_count": 117,
   "metadata": {},
   "outputs": [
    {
     "name": "stderr",
     "output_type": "stream",
     "text": [
      "/Users/zhaoli/opt/anaconda3/lib/python3.7/site-packages/pandas/core/frame.py:3997: SettingWithCopyWarning: \n",
      "A value is trying to be set on a copy of a slice from a DataFrame\n",
      "\n",
      "See the caveats in the documentation: https://pandas.pydata.org/pandas-docs/stable/user_guide/indexing.html#returning-a-view-versus-a-copy\n",
      "  errors=errors,\n"
     ]
    }
   ],
   "source": [
    "SantaM.drop(columns = ['bathrooms','calendar_updated'], inplace=True)"
   ]
  },
  {
   "cell_type": "code",
   "execution_count": 118,
   "metadata": {},
   "outputs": [
    {
     "data": {
      "text/plain": [
       "(1116, 72)"
      ]
     },
     "execution_count": 118,
     "metadata": {},
     "output_type": "execute_result"
    }
   ],
   "source": [
    "SantaM.shape"
   ]
  },
  {
   "cell_type": "markdown",
   "metadata": {},
   "source": [
    "It's good to find that most of the features to be considered in this analysis have zero or very few missing values. I noticed that there are two rows miss \"bathroom_type\" value, let's take a look at them:"
   ]
  },
  {
   "cell_type": "code",
   "execution_count": 119,
   "metadata": {
    "scrolled": true
   },
   "outputs": [
    {
     "data": {
      "text/html": [
       "<div>\n",
       "<style scoped>\n",
       "    .dataframe tbody tr th:only-of-type {\n",
       "        vertical-align: middle;\n",
       "    }\n",
       "\n",
       "    .dataframe tbody tr th {\n",
       "        vertical-align: top;\n",
       "    }\n",
       "\n",
       "    .dataframe thead th {\n",
       "        text-align: right;\n",
       "    }\n",
       "</style>\n",
       "<table border=\"1\" class=\"dataframe\">\n",
       "  <thead>\n",
       "    <tr style=\"text-align: right;\">\n",
       "      <th></th>\n",
       "      <th>id</th>\n",
       "      <th>listing_url</th>\n",
       "      <th>scrape_id</th>\n",
       "      <th>last_scraped</th>\n",
       "      <th>name</th>\n",
       "      <th>description</th>\n",
       "      <th>neighborhood_overview</th>\n",
       "      <th>picture_url</th>\n",
       "      <th>host_id</th>\n",
       "      <th>host_url</th>\n",
       "      <th>...</th>\n",
       "      <th>review_scores_communication</th>\n",
       "      <th>review_scores_location</th>\n",
       "      <th>review_scores_value</th>\n",
       "      <th>license</th>\n",
       "      <th>instant_bookable</th>\n",
       "      <th>calculated_host_listings_count</th>\n",
       "      <th>calculated_host_listings_count_entire_homes</th>\n",
       "      <th>calculated_host_listings_count_private_rooms</th>\n",
       "      <th>calculated_host_listings_count_shared_rooms</th>\n",
       "      <th>reviews_per_month</th>\n",
       "    </tr>\n",
       "  </thead>\n",
       "  <tbody>\n",
       "    <tr>\n",
       "      <th>33</th>\n",
       "      <td>849943</td>\n",
       "      <td>https://www.airbnb.com/rooms/849943</td>\n",
       "      <td>20201009145904</td>\n",
       "      <td>2020-10-25</td>\n",
       "      <td>Private Room Montana Ave Best of SM</td>\n",
       "      <td>&lt;b&gt;The space&lt;/b&gt;&lt;br /&gt;Please do not book witho...</td>\n",
       "      <td>NaN</td>\n",
       "      <td>https://a0.muscache.com/pictures/d68e3173-b704...</td>\n",
       "      <td>4437933</td>\n",
       "      <td>https://www.airbnb.com/users/show/4437933</td>\n",
       "      <td>...</td>\n",
       "      <td>10.0</td>\n",
       "      <td>10.0</td>\n",
       "      <td>10.0</td>\n",
       "      <td>NaN</td>\n",
       "      <td>f</td>\n",
       "      <td>2</td>\n",
       "      <td>0</td>\n",
       "      <td>2</td>\n",
       "      <td>0</td>\n",
       "      <td>0.03</td>\n",
       "    </tr>\n",
       "    <tr>\n",
       "      <th>863</th>\n",
       "      <td>42279288</td>\n",
       "      <td>https://www.airbnb.com/rooms/42279288</td>\n",
       "      <td>20201009145904</td>\n",
       "      <td>2020-10-25</td>\n",
       "      <td>Hotel Shangri-La</td>\n",
       "      <td>NaN</td>\n",
       "      <td>NaN</td>\n",
       "      <td>https://a0.muscache.com/pictures/89b1c0aa-a6d4...</td>\n",
       "      <td>271081037</td>\n",
       "      <td>https://www.airbnb.com/users/show/271081037</td>\n",
       "      <td>...</td>\n",
       "      <td>NaN</td>\n",
       "      <td>NaN</td>\n",
       "      <td>NaN</td>\n",
       "      <td>NaN</td>\n",
       "      <td>f</td>\n",
       "      <td>4</td>\n",
       "      <td>0</td>\n",
       "      <td>0</td>\n",
       "      <td>0</td>\n",
       "      <td>NaN</td>\n",
       "    </tr>\n",
       "  </tbody>\n",
       "</table>\n",
       "<p>2 rows × 72 columns</p>\n",
       "</div>"
      ],
      "text/plain": [
       "           id                            listing_url       scrape_id  \\\n",
       "33     849943    https://www.airbnb.com/rooms/849943  20201009145904   \n",
       "863  42279288  https://www.airbnb.com/rooms/42279288  20201009145904   \n",
       "\n",
       "    last_scraped                                 name  \\\n",
       "33    2020-10-25  Private Room Montana Ave Best of SM   \n",
       "863   2020-10-25                     Hotel Shangri-La   \n",
       "\n",
       "                                           description neighborhood_overview  \\\n",
       "33   <b>The space</b><br />Please do not book witho...                   NaN   \n",
       "863                                                NaN                   NaN   \n",
       "\n",
       "                                           picture_url    host_id  \\\n",
       "33   https://a0.muscache.com/pictures/d68e3173-b704...    4437933   \n",
       "863  https://a0.muscache.com/pictures/89b1c0aa-a6d4...  271081037   \n",
       "\n",
       "                                        host_url  ...  \\\n",
       "33     https://www.airbnb.com/users/show/4437933  ...   \n",
       "863  https://www.airbnb.com/users/show/271081037  ...   \n",
       "\n",
       "    review_scores_communication review_scores_location review_scores_value  \\\n",
       "33                         10.0                   10.0                10.0   \n",
       "863                         NaN                    NaN                 NaN   \n",
       "\n",
       "    license instant_bookable calculated_host_listings_count  \\\n",
       "33      NaN                f                              2   \n",
       "863     NaN                f                              4   \n",
       "\n",
       "    calculated_host_listings_count_entire_homes  \\\n",
       "33                                            0   \n",
       "863                                           0   \n",
       "\n",
       "    calculated_host_listings_count_private_rooms  \\\n",
       "33                                             2   \n",
       "863                                            0   \n",
       "\n",
       "    calculated_host_listings_count_shared_rooms reviews_per_month  \n",
       "33                                            0              0.03  \n",
       "863                                           0               NaN  \n",
       "\n",
       "[2 rows x 72 columns]"
      ]
     },
     "execution_count": 119,
     "metadata": {},
     "output_type": "execute_result"
    }
   ],
   "source": [
    "SantaM[SantaM.bathrooms_text.isnull()==True]"
   ]
  },
  {
   "cell_type": "code",
   "execution_count": 120,
   "metadata": {},
   "outputs": [
    {
     "data": {
      "text/plain": [
       "33     $69.00\n",
       "863     $0.00\n",
       "Name: price, dtype: object"
      ]
     },
     "execution_count": 120,
     "metadata": {},
     "output_type": "execute_result"
    }
   ],
   "source": [
    "SantaM[SantaM.bathrooms_text.isnull()==True].price"
   ]
  },
  {
   "cell_type": "markdown",
   "metadata": {},
   "source": [
    "It seems that Row 863 is incorrect -- the price is \"0\" per night (I checked the URL of this listing and it's clearly not \"0\" dollar. Because I know this info is incorrect, I decide to drop this row as well. "
   ]
  },
  {
   "cell_type": "code",
   "execution_count": 121,
   "metadata": {},
   "outputs": [
    {
     "name": "stderr",
     "output_type": "stream",
     "text": [
      "/Users/zhaoli/opt/anaconda3/lib/python3.7/site-packages/pandas/core/frame.py:3997: SettingWithCopyWarning: \n",
      "A value is trying to be set on a copy of a slice from a DataFrame\n",
      "\n",
      "See the caveats in the documentation: https://pandas.pydata.org/pandas-docs/stable/user_guide/indexing.html#returning-a-view-versus-a-copy\n",
      "  errors=errors,\n"
     ]
    }
   ],
   "source": [
    "SantaM.drop(index = 863, inplace=True)\n",
    "SantaM.index=range(len(SantaM))"
   ]
  },
  {
   "cell_type": "code",
   "execution_count": 124,
   "metadata": {
    "scrolled": false
   },
   "outputs": [
    {
     "data": {
      "text/plain": [
       "(1115, 72)"
      ]
     },
     "execution_count": 124,
     "metadata": {},
     "output_type": "execute_result"
    }
   ],
   "source": [
    "SantaM.shape"
   ]
  },
  {
   "cell_type": "markdown",
   "metadata": {},
   "source": [
    "From previous lines, we know that both \"availability_30\" and \"price\" features have no missing values (great).\n",
    "One thing before we do further analysis is that \"price\" feature is an \"object\" type, instead of a \"float\" type, so we need to convert it first."
   ]
  },
  {
   "cell_type": "code",
   "execution_count": 125,
   "metadata": {
    "scrolled": false
   },
   "outputs": [
    {
     "name": "stderr",
     "output_type": "stream",
     "text": [
      "/Users/zhaoli/opt/anaconda3/lib/python3.7/site-packages/pandas/core/generic.py:5303: SettingWithCopyWarning: \n",
      "A value is trying to be set on a copy of a slice from a DataFrame.\n",
      "Try using .loc[row_indexer,col_indexer] = value instead\n",
      "\n",
      "See the caveats in the documentation: https://pandas.pydata.org/pandas-docs/stable/user_guide/indexing.html#returning-a-view-versus-a-copy\n",
      "  self[name] = value\n"
     ]
    }
   ],
   "source": [
    "SantaM.price = SantaM.price.str.replace('$', '')\n",
    "SantaM.price = SantaM.price.str.replace(',', '')\n",
    "SantaM.price = SantaM.price.astype('float')"
   ]
  },
  {
   "cell_type": "markdown",
   "metadata": {},
   "source": [
    "## Data Modeling"
   ]
  },
  {
   "cell_type": "markdown",
   "metadata": {},
   "source": [
    "### Question 1\n",
    "How the price/availability relate to the room type and bath type?  "
   ]
  },
  {
   "cell_type": "code",
   "execution_count": 126,
   "metadata": {
    "scrolled": true
   },
   "outputs": [
    {
     "data": {
      "text/plain": [
       "Entire home/apt    833\n",
       "Private room       268\n",
       "Shared room          9\n",
       "Hotel room           5\n",
       "Name: room_type, dtype: int64"
      ]
     },
     "execution_count": 126,
     "metadata": {},
     "output_type": "execute_result"
    }
   ],
   "source": [
    "SantaM.room_type.value_counts().sort_values(ascending=False)"
   ]
  },
  {
   "cell_type": "markdown",
   "metadata": {},
   "source": [
    "The majority of listings in Santa Monica in Nov. 2020 are either entire home/apt or private roomm. There are only 9 listings of shared room and 6 listings of hotel room, maybe because of pandemic. What does the availability of each room type look like?"
   ]
  },
  {
   "cell_type": "code",
   "execution_count": 127,
   "metadata": {
    "scrolled": false
   },
   "outputs": [
    {
     "data": {
      "text/plain": [
       "room_type\n",
       "Hotel room         24.800000\n",
       "Private room       13.074627\n",
       "Shared room        11.333333\n",
       "Entire home/apt    10.369748\n",
       "Name: availability_30, dtype: float64"
      ]
     },
     "execution_count": 127,
     "metadata": {},
     "output_type": "execute_result"
    }
   ],
   "source": [
    "SantaM.groupby(['room_type'])['availability_30'].mean().sort_values(ascending=False)"
   ]
  },
  {
   "cell_type": "markdown",
   "metadata": {},
   "source": [
    "Because we will use bar chart repeatly, let's first define a function for data visualization."
   ]
  },
  {
   "cell_type": "code",
   "execution_count": 128,
   "metadata": {},
   "outputs": [],
   "source": [
    "def plot_bar(df, group_by, feature, ascending=False):\n",
    "    \"\"\"\n",
    "    Plot a bar chart to visualize a certain feature of different groups (room types, bathrooms, etc.) \n",
    "    \n",
    "    Parameters:\n",
    "    df: Dataframe to be used\n",
    "    group_by: the column based on which the current analysis is group by\n",
    "    feature: the feature column that we focus on in this plot\n",
    "    ascending: depending on the need, we can show the result in the ascending or descending order (default is descending)\n",
    "    \n",
    "    Returns:\n",
    "    a bar plot that helps us visualize how a feature is related to different groups\n",
    "    \n",
    "    \"\"\"\n",
    "    df.groupby([group_by])[feature].mean().sort_values(ascending=ascending).plot(kind='bar',legend=None)\n",
    "    plt.title('{} depending on {}'.format(feature, group_by))\n",
    "    plt.ylabel(feature)\n",
    "    plt.show()"
   ]
  },
  {
   "cell_type": "code",
   "execution_count": 129,
   "metadata": {
    "scrolled": true
   },
   "outputs": [
    {
     "data": {
      "image/png": "[encoded data removed]",
      "text/plain": [
       "<Figure size 432x288 with 1 Axes>"
      ]
     },
     "metadata": {
      "needs_background": "light"
     },
     "output_type": "display_data"
    }
   ],
   "source": [
    "plot_bar(SantaM, 'room_type', 'availability_30')"
   ]
  },
  {
   "cell_type": "markdown",
   "metadata": {},
   "source": [
    "It's very clear that hotel rooms are less popular than other room types (hotel rooms have twice as many available days in the next 30 days than other three types). Now let's see how the room types relate to the price of listings."
   ]
  },
  {
   "cell_type": "code",
   "execution_count": 130,
   "metadata": {},
   "outputs": [
    {
     "data": {
      "text/plain": [
       "room_type\n",
       "Hotel room         322.600000\n",
       "Entire home/apt    204.181152\n",
       "Private room       149.786231\n",
       "Shared room        147.444444\n",
       "Name: price, dtype: float64"
      ]
     },
     "execution_count": 130,
     "metadata": {},
     "output_type": "execute_result"
    }
   ],
   "source": [
    "SantaM.groupby(['room_type'])['price'].mean().sort_values(ascending=False)"
   ]
  },
  {
   "cell_type": "code",
   "execution_count": 131,
   "metadata": {
    "scrolled": true
   },
   "outputs": [
    {
     "data": {
      "image/png": "[encoded data removed]",
      "text/plain": [
       "<Figure size 432x288 with 1 Axes>"
      ]
     },
     "metadata": {
      "needs_background": "light"
     },
     "output_type": "display_data"
    }
   ],
   "source": [
    "plot_bar(SantaM, 'room_type', 'price')"
   ]
  },
  {
   "cell_type": "markdown",
   "metadata": {},
   "source": [
    "From the bar plot, it's clear that hotel rooms are very expensive, followed by entire home/apt, and private or shared rooms are least expansive. The reason why hotel rooms are less popular and have very low booking rates is likely due to its high listing price. But entire home/apt are still very popular despite the average price being high than 200 dollars per night. "
   ]
  },
  {
   "cell_type": "markdown",
   "metadata": {},
   "source": [
    "Now let's take a look at how bathroom types affect the availability and price of a listing. "
   ]
  },
  {
   "cell_type": "code",
   "execution_count": 132,
   "metadata": {
    "scrolled": true
   },
   "outputs": [
    {
     "data": {
      "text/plain": [
       "1 bath               583\n",
       "2 baths              191\n",
       "1 private bath       134\n",
       "1 shared bath         82\n",
       "1.5 baths             38\n",
       "2.5 baths             21\n",
       "3 baths               21\n",
       "1.5 shared baths      19\n",
       "4 baths                7\n",
       "2 shared baths         5\n",
       "4.5 baths              4\n",
       "3.5 baths              3\n",
       "5 baths                2\n",
       "Shared half-bath       1\n",
       "6 baths                1\n",
       "2.5 shared baths       1\n",
       "Private half-bath      1\n",
       "Name: bathrooms_text, dtype: int64"
      ]
     },
     "execution_count": 132,
     "metadata": {},
     "output_type": "execute_result"
    }
   ],
   "source": [
    "SantaM.bathrooms_text.value_counts().sort_values(ascending=False)"
   ]
  },
  {
   "cell_type": "markdown",
   "metadata": {},
   "source": [
    "The majority of listings in Santa Monica in Nov. 2020 are less than 3 baths. So these types will be the focus of following analysis. What does the availability of each bathroom type look like?"
   ]
  },
  {
   "cell_type": "code",
   "execution_count": 133,
   "metadata": {
    "scrolled": true
   },
   "outputs": [
    {
     "data": {
      "text/plain": [
       "bathrooms_text\n",
       "6 baths              30.000000\n",
       "Shared half-bath     29.000000\n",
       "2.5 shared baths     23.000000\n",
       "4.5 baths            20.250000\n",
       "5 baths              19.000000\n",
       "2 shared baths       18.000000\n",
       "3.5 baths            17.666667\n",
       "4 baths              16.428571\n",
       "2.5 baths            15.904762\n",
       "2 baths              14.664921\n",
       "1 private bath       12.828358\n",
       "1 shared bath        12.243902\n",
       "3 baths              12.142857\n",
       "1.5 baths            10.210526\n",
       "1.5 shared baths      9.631579\n",
       "1 bath                8.907376\n",
       "Private half-bath     2.000000\n",
       "Name: availability_30, dtype: float64"
      ]
     },
     "execution_count": 133,
     "metadata": {},
     "output_type": "execute_result"
    }
   ],
   "source": [
    "SantaM.groupby(['bathrooms_text'])['availability_30'].mean().sort_values(ascending=False)"
   ]
  },
  {
   "cell_type": "code",
   "execution_count": 134,
   "metadata": {
    "scrolled": false
   },
   "outputs": [
    {
     "data": {
      "image/png": "[encoded data removed]",
      "text/plain": [
       "<Figure size 432x288 with 1 Axes>"
      ]
     },
     "metadata": {
      "needs_background": "light"
     },
     "output_type": "display_data"
    }
   ],
   "source": [
    "plot_bar(SantaM, 'bathrooms_text', 'availability_30')"
   ]
  },
  {
   "cell_type": "code",
   "execution_count": 135,
   "metadata": {
    "scrolled": true
   },
   "outputs": [
    {
     "data": {
      "text/plain": [
       "bathrooms_text\n",
       "4.5 baths            1843.750000\n",
       "6 baths              1700.000000\n",
       "4 baths              1117.142857\n",
       "3.5 baths            1033.333333\n",
       "5 baths               567.500000\n",
       "3 baths               452.081429\n",
       "2.5 baths             329.212857\n",
       "2 baths               245.146597\n",
       "1 private bath        181.850746\n",
       "1.5 baths             165.710526\n",
       "1 bath                150.336930\n",
       "1 shared bath         104.353659\n",
       "Shared half-bath      100.000000\n",
       "2.5 shared baths       99.000000\n",
       "Private half-bath      85.000000\n",
       "2 shared baths         72.000000\n",
       "1.5 shared baths       64.421053\n",
       "Name: price, dtype: float64"
      ]
     },
     "execution_count": 135,
     "metadata": {},
     "output_type": "execute_result"
    }
   ],
   "source": [
    "SantaM.groupby(['bathrooms_text'])['price'].mean().sort_values(ascending=False)"
   ]
  },
  {
   "cell_type": "code",
   "execution_count": 136,
   "metadata": {
    "scrolled": false
   },
   "outputs": [
    {
     "data": {
      "image/png": "[encoded data removed]",
      "text/plain": [
       "<Figure size 432x288 with 1 Axes>"
      ]
     },
     "metadata": {
      "needs_background": "light"
     },
     "output_type": "display_data"
    }
   ],
   "source": [
    "plot_bar(SantaM, 'bathrooms_text', 'price')"
   ]
  },
  {
   "cell_type": "markdown",
   "metadata": {},
   "source": [
    "From these two plots, it's clear that although shared and private bathroom does not affect the availability very much, properties with private bathrooms have higher listing price on average than properties with shared bathrooms. This may be especially true durinng the pandemic (so one of my future practice will be to dig out archived data and see how much difference there is between private and shared bath before the pandemic)."
   ]
  },
  {
   "cell_type": "markdown",
   "metadata": {},
   "source": [
    "### Question 2\n",
    "Since it requires renovation (including HOA/city permit) to change the type of the room and bathroomm, let's take a look at whether addditional amenities will increase booking rate and price. What are the popular amenities offered by the hosts in Santa Monica? To answer this question, we need to first break the amenities text into individual amenity."
   ]
  },
  {
   "cell_type": "code",
   "execution_count": 137,
   "metadata": {},
   "outputs": [],
   "source": [
    "# break the amenities descriptions into individual amenity\n",
    "amenities_list = list(SantaM.amenities)\n",
    "amenities_list_string = \" \".join(amenities_list)\n",
    "amenities_list_string = amenities_list_string.replace('\"', '')\n",
    "amenities_list_string = amenities_list_string.replace('[', '')\n",
    "amenities_list_string = amenities_list_string.replace(']', ',')\n",
    "amenities_set = [x.strip() for x in amenities_list_string.split(',')] "
   ]
  },
  {
   "cell_type": "code",
   "execution_count": 138,
   "metadata": {},
   "outputs": [],
   "source": [
    "# count the frequency of individual amenity\n",
    "temp = dict(Counter(amenities_set))\n",
    "a_count = pd.DataFrame.from_dict(temp,orient='index',columns=['count'])\n",
    "a_count.sort_values(\"count\",ascending=False,inplace=True)"
   ]
  },
  {
   "cell_type": "code",
   "execution_count": 139,
   "metadata": {
    "scrolled": true
   },
   "outputs": [
    {
     "data": {
      "text/plain": [
       "Index(['Wifi', 'Essentials', 'Smoke alarm', 'Heating', 'Hangers', 'TV',\n",
       "       'Hair dryer', 'Kitchen', 'Iron', 'Carbon monoxide alarm',\n",
       "       ...\n",
       "       'Puracy conditioner', 'Puracy shampoo', 'Puracy body soap',\n",
       "       'Puracy plant based and natural shampoo',\n",
       "       'Puracy plant based and natural conditioner', '47\\ HDTV with Netflix',\n",
       "       'Puracy plant based and natural body soap',\n",
       "       'Trader Joes shampoo/body wash combo body soap',\n",
       "       'Trader Joes shampoo/body wash combo shampoo',\n",
       "       'Free parking garage on premises'],\n",
       "      dtype='object', length=162)"
      ]
     },
     "execution_count": 139,
     "metadata": {},
     "output_type": "execute_result"
    }
   ],
   "source": [
    "a_count.index"
   ]
  },
  {
   "cell_type": "code",
   "execution_count": 141,
   "metadata": {},
   "outputs": [
    {
     "data": {
      "image/png": "[encoded data removed]",
      "text/plain": [
       "<Figure size 3000x1200 with 1 Axes>"
      ]
     },
     "metadata": {
      "needs_background": "light"
     },
     "output_type": "display_data"
    }
   ],
   "source": [
    "#Here I create a bar chart to show the percentage of each amenity from the most common to the least common.\n",
    "top = 40\n",
    "(a_count/len(SantaM))[:top].plot(kind='bar', legend=None);\n",
    "plt.title('Top {} Most Common Amenities Provided by Santa Monica Hosts'.format(top));\n",
    "plt.ylabel('% Listings with the Amenities')\n",
    "plt.rcParams['figure.figsize'] = [16, 8]\n",
    "plt.rcParams['figure.dpi'] = 150\n",
    "plt.show()"
   ]
  },
  {
   "cell_type": "code",
   "execution_count": 142,
   "metadata": {},
   "outputs": [
    {
     "data": {
      "text/html": [
       "<div>\n",
       "<style scoped>\n",
       "    .dataframe tbody tr th:only-of-type {\n",
       "        vertical-align: middle;\n",
       "    }\n",
       "\n",
       "    .dataframe tbody tr th {\n",
       "        vertical-align: top;\n",
       "    }\n",
       "\n",
       "    .dataframe thead th {\n",
       "        text-align: right;\n",
       "    }\n",
       "</style>\n",
       "<table border=\"1\" class=\"dataframe\">\n",
       "  <thead>\n",
       "    <tr style=\"text-align: right;\">\n",
       "      <th></th>\n",
       "      <th>count</th>\n",
       "    </tr>\n",
       "  </thead>\n",
       "  <tbody>\n",
       "    <tr>\n",
       "      <th>Wifi</th>\n",
       "      <td>0.969507</td>\n",
       "    </tr>\n",
       "  </tbody>\n",
       "</table>\n",
       "</div>"
      ],
      "text/plain": [
       "         count\n",
       "Wifi  0.969507"
      ]
     },
     "execution_count": 142,
     "metadata": {},
     "output_type": "execute_result"
    }
   ],
   "source": [
    "(a_count/len(SantaM))[:1]"
   ]
  },
  {
   "cell_type": "markdown",
   "metadata": {},
   "source": [
    "From the plot, it's clear that more than 80% of the listings in Santa Monica are equipped with Wifi (96.9%), Essentials, Smoke alarm, Heating, Hangers, TV, and Kitchen. More than 60% of the listings are also equipped with Hair dryer, Iron, CO alarm, Dryer/Washer, Shampoo, Laptop-friendly workspace, and Hot water. "
   ]
  },
  {
   "cell_type": "markdown",
   "metadata": {},
   "source": [
    "### Question 3\n",
    "What are the most influential features to estimate the price/availability of a listing?"
   ]
  },
  {
   "cell_type": "markdown",
   "metadata": {},
   "source": [
    "To answer this question, we need to work with categorical variables in the \"amenities\" column. I will first create dummy variables for the top 40 amenities (found previously and stored in a_count dataframe). If the listing has a certain amenity, then the value will be \"1\" in that new column; if it does not, then the value will be \"0\"."
   ]
  },
  {
   "cell_type": "code",
   "execution_count": 164,
   "metadata": {},
   "outputs": [
    {
     "name": "stderr",
     "output_type": "stream",
     "text": [
      "/Users/zhaoli/opt/anaconda3/lib/python3.7/site-packages/ipykernel_launcher.py:3: SettingWithCopyWarning: \n",
      "A value is trying to be set on a copy of a slice from a DataFrame.\n",
      "Try using .loc[row_indexer,col_indexer] = value instead\n",
      "\n",
      "See the caveats in the documentation: https://pandas.pydata.org/pandas-docs/stable/user_guide/indexing.html#returning-a-view-versus-a-copy\n",
      "  This is separate from the ipykernel package so we can avoid doing imports until\n",
      "/Users/zhaoli/opt/anaconda3/lib/python3.7/site-packages/pandas/core/indexing.py:965: SettingWithCopyWarning: \n",
      "A value is trying to be set on a copy of a slice from a DataFrame.\n",
      "Try using .loc[row_indexer,col_indexer] = value instead\n",
      "\n",
      "See the caveats in the documentation: https://pandas.pydata.org/pandas-docs/stable/user_guide/indexing.html#returning-a-view-versus-a-copy\n",
      "  self.obj[item] = s\n"
     ]
    }
   ],
   "source": [
    "top = 40\n",
    "for i in range(top):\n",
    "    SantaM[a_count.index[i]] = 0\n",
    "for i in range(top):\n",
    "    for t in range(len(SantaM)):\n",
    "        if a_count.index[i] in SantaM.amenities[t]:\n",
    "            SantaM.loc[t, a_count.index[i]] = 1\n",
    "        else:\n",
    "            SantaM.loc[t, a_count.index[i]] = 0"
   ]
  },
  {
   "cell_type": "code",
   "execution_count": 165,
   "metadata": {},
   "outputs": [
    {
     "data": {
      "text/plain": [
       "(1115, 112)"
      ]
     },
     "execution_count": 165,
     "metadata": {},
     "output_type": "execute_result"
    }
   ],
   "source": [
    "SantaM.shape"
   ]
  },
  {
   "cell_type": "markdown",
   "metadata": {},
   "source": [
    "First let's take a look at the availability data. We want to find out the amenities that can increase the booking rate (i.e., have lower availability in the coming 30 days)."
   ]
  },
  {
   "cell_type": "markdown",
   "metadata": {},
   "source": [
    "Here I define another function to create the comparison dataframe, so we can use it for other features later."
   ]
  },
  {
   "cell_type": "code",
   "execution_count": 158,
   "metadata": {},
   "outputs": [],
   "source": [
    "def amenities_importance(df, a_count, feature, top):\n",
    "    \n",
    "    \"\"\"\n",
    "    Create a comparison dataframe to see the importance of different amenities\n",
    "    \n",
    "    Parameters:\n",
    "    df: Dataframe to be used\n",
    "    a_count: Dataframe that stores the amenities name and frequency\n",
    "    feature: the feature column that we focus on in this comparison, such as availability, price, etc.\n",
    "    top: the top amenities in the a_count dataframe to be analysized in this comparison (because some amenities only appear once or a few times, so it's meanless to do a comparison)\n",
    "    \n",
    "    Returns:\n",
    "    a dataframe that shows the average value of the listings with and without the feature of interest, and the difference between the two averages\n",
    "    \"\"\"\n",
    "    \n",
    "    df_temp = pd.DataFrame(index=range(0,top), columns=[\"Amenity_name\", \"Having\", \"Not_having\", \"Difference\"])\n",
    "    for i in range(top):\n",
    "        df_temp['Amenity_name'][i] = a_count.index[i]\n",
    "        df_temp['Having'][i] = df.groupby([a_count.index[i]])[feature].mean()[1]\n",
    "        df_temp['Not_having'][i] = df.groupby([a_count.index[i]])[feature].mean()[0]\n",
    "        df_temp['Difference'][i] = df_temp['Having'][i] - df_temp['Not_having'][i]\n",
    "    return df_temp"
   ]
  },
  {
   "cell_type": "code",
   "execution_count": 166,
   "metadata": {},
   "outputs": [
    {
     "data": {
      "text/html": [
       "<div>\n",
       "<style scoped>\n",
       "    .dataframe tbody tr th:only-of-type {\n",
       "        vertical-align: middle;\n",
       "    }\n",
       "\n",
       "    .dataframe tbody tr th {\n",
       "        vertical-align: top;\n",
       "    }\n",
       "\n",
       "    .dataframe thead th {\n",
       "        text-align: right;\n",
       "    }\n",
       "</style>\n",
       "<table border=\"1\" class=\"dataframe\">\n",
       "  <thead>\n",
       "    <tr style=\"text-align: right;\">\n",
       "      <th></th>\n",
       "      <th>Amenity_name</th>\n",
       "      <th>Having</th>\n",
       "      <th>Not_having</th>\n",
       "      <th>Difference</th>\n",
       "    </tr>\n",
       "  </thead>\n",
       "  <tbody>\n",
       "    <tr>\n",
       "      <th>0</th>\n",
       "      <td>Wifi</td>\n",
       "      <td>10.8504</td>\n",
       "      <td>19.2812</td>\n",
       "      <td>-8.43083</td>\n",
       "    </tr>\n",
       "    <tr>\n",
       "      <th>1</th>\n",
       "      <td>Essentials</td>\n",
       "      <td>10.7279</td>\n",
       "      <td>17.0781</td>\n",
       "      <td>-6.35025</td>\n",
       "    </tr>\n",
       "    <tr>\n",
       "      <th>4</th>\n",
       "      <td>Hangers</td>\n",
       "      <td>10.7396</td>\n",
       "      <td>14.3486</td>\n",
       "      <td>-3.60906</td>\n",
       "    </tr>\n",
       "    <tr>\n",
       "      <th>8</th>\n",
       "      <td>Iron</td>\n",
       "      <td>10.6113</td>\n",
       "      <td>13.1415</td>\n",
       "      <td>-2.53021</td>\n",
       "    </tr>\n",
       "    <tr>\n",
       "      <th>6</th>\n",
       "      <td>Hair dryer</td>\n",
       "      <td>10.7813</td>\n",
       "      <td>13.0933</td>\n",
       "      <td>-2.31199</td>\n",
       "    </tr>\n",
       "    <tr>\n",
       "      <th>24</th>\n",
       "      <td>Bed linens</td>\n",
       "      <td>9.96619</td>\n",
       "      <td>12.2369</td>\n",
       "      <td>-2.2707</td>\n",
       "    </tr>\n",
       "    <tr>\n",
       "      <th>17</th>\n",
       "      <td>Refrigerator</td>\n",
       "      <td>10.2838</td>\n",
       "      <td>12.3235</td>\n",
       "      <td>-2.03973</td>\n",
       "    </tr>\n",
       "    <tr>\n",
       "      <th>12</th>\n",
       "      <td>Shampoo</td>\n",
       "      <td>10.6057</td>\n",
       "      <td>12.6306</td>\n",
       "      <td>-2.02493</td>\n",
       "    </tr>\n",
       "    <tr>\n",
       "      <th>19</th>\n",
       "      <td>Coffee maker</td>\n",
       "      <td>10.2449</td>\n",
       "      <td>12.2218</td>\n",
       "      <td>-1.97686</td>\n",
       "    </tr>\n",
       "    <tr>\n",
       "      <th>18</th>\n",
       "      <td>Dishes and silverware</td>\n",
       "      <td>10.3041</td>\n",
       "      <td>12.2401</td>\n",
       "      <td>-1.936</td>\n",
       "    </tr>\n",
       "    <tr>\n",
       "      <th>37</th>\n",
       "      <td>Lockbox</td>\n",
       "      <td>9.52381</td>\n",
       "      <td>11.4125</td>\n",
       "      <td>-1.88872</td>\n",
       "    </tr>\n",
       "    <tr>\n",
       "      <th>25</th>\n",
       "      <td>Stove</td>\n",
       "      <td>10.1802</td>\n",
       "      <td>11.9964</td>\n",
       "      <td>-1.81625</td>\n",
       "    </tr>\n",
       "    <tr>\n",
       "      <th>26</th>\n",
       "      <td>Oven</td>\n",
       "      <td>10.1738</td>\n",
       "      <td>11.9397</td>\n",
       "      <td>-1.76582</td>\n",
       "    </tr>\n",
       "    <tr>\n",
       "      <th>5</th>\n",
       "      <td>TV</td>\n",
       "      <td>10.884</td>\n",
       "      <td>12.6439</td>\n",
       "      <td>-1.75991</td>\n",
       "    </tr>\n",
       "    <tr>\n",
       "      <th>3</th>\n",
       "      <td>Heating</td>\n",
       "      <td>10.9471</td>\n",
       "      <td>12.6702</td>\n",
       "      <td>-1.7231</td>\n",
       "    </tr>\n",
       "    <tr>\n",
       "      <th>29</th>\n",
       "      <td>Dishwasher</td>\n",
       "      <td>10.0944</td>\n",
       "      <td>11.7552</td>\n",
       "      <td>-1.66084</td>\n",
       "    </tr>\n",
       "    <tr>\n",
       "      <th>34</th>\n",
       "      <td>Garden or backyard</td>\n",
       "      <td>9.81855</td>\n",
       "      <td>11.4567</td>\n",
       "      <td>-1.6382</td>\n",
       "    </tr>\n",
       "    <tr>\n",
       "      <th>23</th>\n",
       "      <td>Cooking basics</td>\n",
       "      <td>10.3363</td>\n",
       "      <td>11.8775</td>\n",
       "      <td>-1.54125</td>\n",
       "    </tr>\n",
       "    <tr>\n",
       "      <th>20</th>\n",
       "      <td>Microwave</td>\n",
       "      <td>10.5079</td>\n",
       "      <td>11.8515</td>\n",
       "      <td>-1.34361</td>\n",
       "    </tr>\n",
       "    <tr>\n",
       "      <th>7</th>\n",
       "      <td>Kitchen</td>\n",
       "      <td>10.9691</td>\n",
       "      <td>11.9172</td>\n",
       "      <td>-0.948169</td>\n",
       "    </tr>\n",
       "    <tr>\n",
       "      <th>36</th>\n",
       "      <td>Elevator</td>\n",
       "      <td>10.3543</td>\n",
       "      <td>11.2769</td>\n",
       "      <td>-0.922646</td>\n",
       "    </tr>\n",
       "    <tr>\n",
       "      <th>27</th>\n",
       "      <td>Free street parking</td>\n",
       "      <td>10.66</td>\n",
       "      <td>11.4477</td>\n",
       "      <td>-0.787673</td>\n",
       "    </tr>\n",
       "    <tr>\n",
       "      <th>31</th>\n",
       "      <td>Extra pillows and blankets</td>\n",
       "      <td>10.6354</td>\n",
       "      <td>11.3121</td>\n",
       "      <td>-0.676726</td>\n",
       "    </tr>\n",
       "    <tr>\n",
       "      <th>28</th>\n",
       "      <td>First aid kit</td>\n",
       "      <td>10.735</td>\n",
       "      <td>11.3655</td>\n",
       "      <td>-0.630517</td>\n",
       "    </tr>\n",
       "    <tr>\n",
       "      <th>14</th>\n",
       "      <td>Hot water</td>\n",
       "      <td>10.9149</td>\n",
       "      <td>11.5411</td>\n",
       "      <td>-0.626246</td>\n",
       "    </tr>\n",
       "    <tr>\n",
       "      <th>11</th>\n",
       "      <td>Washer</td>\n",
       "      <td>10.9798</td>\n",
       "      <td>11.5426</td>\n",
       "      <td>-0.56278</td>\n",
       "    </tr>\n",
       "    <tr>\n",
       "      <th>33</th>\n",
       "      <td>Patio or balcony</td>\n",
       "      <td>10.7521</td>\n",
       "      <td>11.2513</td>\n",
       "      <td>-0.499203</td>\n",
       "    </tr>\n",
       "    <tr>\n",
       "      <th>21</th>\n",
       "      <td>Private entrance</td>\n",
       "      <td>10.9283</td>\n",
       "      <td>11.2835</td>\n",
       "      <td>-0.355162</td>\n",
       "    </tr>\n",
       "    <tr>\n",
       "      <th>32</th>\n",
       "      <td>Cable TV</td>\n",
       "      <td>10.867</td>\n",
       "      <td>11.2003</td>\n",
       "      <td>-0.333229</td>\n",
       "    </tr>\n",
       "    <tr>\n",
       "      <th>13</th>\n",
       "      <td>Laptop-friendly workspace</td>\n",
       "      <td>11.0278</td>\n",
       "      <td>11.2768</td>\n",
       "      <td>-0.248972</td>\n",
       "    </tr>\n",
       "    <tr>\n",
       "      <th>22</th>\n",
       "      <td>Air conditioning</td>\n",
       "      <td>11.0067</td>\n",
       "      <td>11.19</td>\n",
       "      <td>-0.183285</td>\n",
       "    </tr>\n",
       "    <tr>\n",
       "      <th>9</th>\n",
       "      <td>Carbon monoxide alarm</td>\n",
       "      <td>11.0645</td>\n",
       "      <td>11.2083</td>\n",
       "      <td>-0.143817</td>\n",
       "    </tr>\n",
       "    <tr>\n",
       "      <th>35</th>\n",
       "      <td>Luggage dropoff allowed</td>\n",
       "      <td>11</td>\n",
       "      <td>11.1164</td>\n",
       "      <td>-0.116384</td>\n",
       "    </tr>\n",
       "    <tr>\n",
       "      <th>10</th>\n",
       "      <td>Dryer</td>\n",
       "      <td>11.0702</td>\n",
       "      <td>11.1835</td>\n",
       "      <td>-0.113252</td>\n",
       "    </tr>\n",
       "    <tr>\n",
       "      <th>39</th>\n",
       "      <td>Bathtub</td>\n",
       "      <td>11.0059</td>\n",
       "      <td>11.1078</td>\n",
       "      <td>-0.101905</td>\n",
       "    </tr>\n",
       "    <tr>\n",
       "      <th>15</th>\n",
       "      <td>Fire extinguisher</td>\n",
       "      <td>11.1523</td>\n",
       "      <td>10.9928</td>\n",
       "      <td>0.159459</td>\n",
       "    </tr>\n",
       "    <tr>\n",
       "      <th>30</th>\n",
       "      <td>Long term stays allowed</td>\n",
       "      <td>11.2712</td>\n",
       "      <td>10.9826</td>\n",
       "      <td>0.288593</td>\n",
       "    </tr>\n",
       "    <tr>\n",
       "      <th>16</th>\n",
       "      <td>Free parking on premises</td>\n",
       "      <td>11.56</td>\n",
       "      <td>10.375</td>\n",
       "      <td>1.185</td>\n",
       "    </tr>\n",
       "    <tr>\n",
       "      <th>2</th>\n",
       "      <td>Smoke alarm</td>\n",
       "      <td>11.1809</td>\n",
       "      <td>9.96296</td>\n",
       "      <td>1.21789</td>\n",
       "    </tr>\n",
       "    <tr>\n",
       "      <th>38</th>\n",
       "      <td>Lock on bedroom door</td>\n",
       "      <td>12.4602</td>\n",
       "      <td>10.836</td>\n",
       "      <td>1.62423</td>\n",
       "    </tr>\n",
       "  </tbody>\n",
       "</table>\n",
       "</div>"
      ],
      "text/plain": [
       "                  Amenity_name   Having Not_having Difference\n",
       "0                         Wifi  10.8504    19.2812   -8.43083\n",
       "1                   Essentials  10.7279    17.0781   -6.35025\n",
       "4                      Hangers  10.7396    14.3486   -3.60906\n",
       "8                         Iron  10.6113    13.1415   -2.53021\n",
       "6                   Hair dryer  10.7813    13.0933   -2.31199\n",
       "24                  Bed linens  9.96619    12.2369    -2.2707\n",
       "17                Refrigerator  10.2838    12.3235   -2.03973\n",
       "12                     Shampoo  10.6057    12.6306   -2.02493\n",
       "19                Coffee maker  10.2449    12.2218   -1.97686\n",
       "18       Dishes and silverware  10.3041    12.2401     -1.936\n",
       "37                     Lockbox  9.52381    11.4125   -1.88872\n",
       "25                       Stove  10.1802    11.9964   -1.81625\n",
       "26                        Oven  10.1738    11.9397   -1.76582\n",
       "5                           TV   10.884    12.6439   -1.75991\n",
       "3                      Heating  10.9471    12.6702    -1.7231\n",
       "29                  Dishwasher  10.0944    11.7552   -1.66084\n",
       "34          Garden or backyard  9.81855    11.4567    -1.6382\n",
       "23              Cooking basics  10.3363    11.8775   -1.54125\n",
       "20                   Microwave  10.5079    11.8515   -1.34361\n",
       "7                      Kitchen  10.9691    11.9172  -0.948169\n",
       "36                    Elevator  10.3543    11.2769  -0.922646\n",
       "27         Free street parking    10.66    11.4477  -0.787673\n",
       "31  Extra pillows and blankets  10.6354    11.3121  -0.676726\n",
       "28               First aid kit   10.735    11.3655  -0.630517\n",
       "14                   Hot water  10.9149    11.5411  -0.626246\n",
       "11                      Washer  10.9798    11.5426   -0.56278\n",
       "33            Patio or balcony  10.7521    11.2513  -0.499203\n",
       "21            Private entrance  10.9283    11.2835  -0.355162\n",
       "32                    Cable TV   10.867    11.2003  -0.333229\n",
       "13   Laptop-friendly workspace  11.0278    11.2768  -0.248972\n",
       "22            Air conditioning  11.0067      11.19  -0.183285\n",
       "9        Carbon monoxide alarm  11.0645    11.2083  -0.143817\n",
       "35     Luggage dropoff allowed       11    11.1164  -0.116384\n",
       "10                       Dryer  11.0702    11.1835  -0.113252\n",
       "39                     Bathtub  11.0059    11.1078  -0.101905\n",
       "15           Fire extinguisher  11.1523    10.9928   0.159459\n",
       "30     Long term stays allowed  11.2712    10.9826   0.288593\n",
       "16    Free parking on premises    11.56     10.375      1.185\n",
       "2                  Smoke alarm  11.1809    9.96296    1.21789\n",
       "38        Lock on bedroom door  12.4602     10.836    1.62423"
      ]
     },
     "execution_count": 166,
     "metadata": {},
     "output_type": "execute_result"
    }
   ],
   "source": [
    "a_availability = amenities_importance(SantaM, a_count, 'availability_30', top)\n",
    "a_availability.sort_values('Difference')"
   ]
  },
  {
   "cell_type": "markdown",
   "metadata": {},
   "source": [
    "It's clear that Wifi, Essentials, Hangers, Iron, Hair dryer, Bed linens, Refrigerator, and Shampoo are the amenities that help increase the booking rate. Now let's take a look at whether they also help increase the price of the listing."
   ]
  },
  {
   "cell_type": "code",
   "execution_count": 169,
   "metadata": {},
   "outputs": [
    {
     "data": {
      "text/html": [
       "<div>\n",
       "<style scoped>\n",
       "    .dataframe tbody tr th:only-of-type {\n",
       "        vertical-align: middle;\n",
       "    }\n",
       "\n",
       "    .dataframe tbody tr th {\n",
       "        vertical-align: top;\n",
       "    }\n",
       "\n",
       "    .dataframe thead th {\n",
       "        text-align: right;\n",
       "    }\n",
       "</style>\n",
       "<table border=\"1\" class=\"dataframe\">\n",
       "  <thead>\n",
       "    <tr style=\"text-align: right;\">\n",
       "      <th></th>\n",
       "      <th>Amenity_name</th>\n",
       "      <th>Having</th>\n",
       "      <th>Not_having</th>\n",
       "      <th>Difference</th>\n",
       "    </tr>\n",
       "  </thead>\n",
       "  <tbody>\n",
       "    <tr>\n",
       "      <th>22</th>\n",
       "      <td>Air conditioning</td>\n",
       "      <td>225.699</td>\n",
       "      <td>151.825</td>\n",
       "      <td>73.8742</td>\n",
       "    </tr>\n",
       "    <tr>\n",
       "      <th>36</th>\n",
       "      <td>Elevator</td>\n",
       "      <td>240.335</td>\n",
       "      <td>178.891</td>\n",
       "      <td>61.4439</td>\n",
       "    </tr>\n",
       "    <tr>\n",
       "      <th>9</th>\n",
       "      <td>Carbon monoxide alarm</td>\n",
       "      <td>201.297</td>\n",
       "      <td>149.072</td>\n",
       "      <td>52.225</td>\n",
       "    </tr>\n",
       "    <tr>\n",
       "      <th>16</th>\n",
       "      <td>Free parking on premises</td>\n",
       "      <td>206.952</td>\n",
       "      <td>166.984</td>\n",
       "      <td>39.9679</td>\n",
       "    </tr>\n",
       "    <tr>\n",
       "      <th>5</th>\n",
       "      <td>TV</td>\n",
       "      <td>195.372</td>\n",
       "      <td>159.962</td>\n",
       "      <td>35.4098</td>\n",
       "    </tr>\n",
       "    <tr>\n",
       "      <th>2</th>\n",
       "      <td>Smoke alarm</td>\n",
       "      <td>193.506</td>\n",
       "      <td>161.489</td>\n",
       "      <td>32.0173</td>\n",
       "    </tr>\n",
       "    <tr>\n",
       "      <th>39</th>\n",
       "      <td>Bathtub</td>\n",
       "      <td>212.537</td>\n",
       "      <td>187.365</td>\n",
       "      <td>25.1725</td>\n",
       "    </tr>\n",
       "    <tr>\n",
       "      <th>28</th>\n",
       "      <td>First aid kit</td>\n",
       "      <td>204.41</td>\n",
       "      <td>181.069</td>\n",
       "      <td>23.3416</td>\n",
       "    </tr>\n",
       "    <tr>\n",
       "      <th>32</th>\n",
       "      <td>Cable TV</td>\n",
       "      <td>204.333</td>\n",
       "      <td>184.882</td>\n",
       "      <td>19.4508</td>\n",
       "    </tr>\n",
       "    <tr>\n",
       "      <th>10</th>\n",
       "      <td>Dryer</td>\n",
       "      <td>193.456</td>\n",
       "      <td>181.813</td>\n",
       "      <td>11.6431</td>\n",
       "    </tr>\n",
       "    <tr>\n",
       "      <th>8</th>\n",
       "      <td>Iron</td>\n",
       "      <td>192.808</td>\n",
       "      <td>184.245</td>\n",
       "      <td>8.5627</td>\n",
       "    </tr>\n",
       "    <tr>\n",
       "      <th>6</th>\n",
       "      <td>Hair dryer</td>\n",
       "      <td>192.098</td>\n",
       "      <td>185.273</td>\n",
       "      <td>6.82471</td>\n",
       "    </tr>\n",
       "    <tr>\n",
       "      <th>15</th>\n",
       "      <td>Fire extinguisher</td>\n",
       "      <td>193.271</td>\n",
       "      <td>187.707</td>\n",
       "      <td>5.56439</td>\n",
       "    </tr>\n",
       "    <tr>\n",
       "      <th>13</th>\n",
       "      <td>Laptop-friendly workspace</td>\n",
       "      <td>192.569</td>\n",
       "      <td>187.21</td>\n",
       "      <td>5.35947</td>\n",
       "    </tr>\n",
       "    <tr>\n",
       "      <th>11</th>\n",
       "      <td>Washer</td>\n",
       "      <td>192.052</td>\n",
       "      <td>187.691</td>\n",
       "      <td>4.36167</td>\n",
       "    </tr>\n",
       "    <tr>\n",
       "      <th>12</th>\n",
       "      <td>Shampoo</td>\n",
       "      <td>191.748</td>\n",
       "      <td>189.384</td>\n",
       "      <td>2.36374</td>\n",
       "    </tr>\n",
       "    <tr>\n",
       "      <th>21</th>\n",
       "      <td>Private entrance</td>\n",
       "      <td>191.68</td>\n",
       "      <td>190.598</td>\n",
       "      <td>1.08183</td>\n",
       "    </tr>\n",
       "    <tr>\n",
       "      <th>3</th>\n",
       "      <td>Heating</td>\n",
       "      <td>191.137</td>\n",
       "      <td>191.649</td>\n",
       "      <td>-0.512198</td>\n",
       "    </tr>\n",
       "    <tr>\n",
       "      <th>34</th>\n",
       "      <td>Garden or backyard</td>\n",
       "      <td>182.711</td>\n",
       "      <td>193.602</td>\n",
       "      <td>-10.8916</td>\n",
       "    </tr>\n",
       "    <tr>\n",
       "      <th>29</th>\n",
       "      <td>Dishwasher</td>\n",
       "      <td>184.212</td>\n",
       "      <td>195.808</td>\n",
       "      <td>-11.5965</td>\n",
       "    </tr>\n",
       "    <tr>\n",
       "      <th>33</th>\n",
       "      <td>Patio or balcony</td>\n",
       "      <td>181.672</td>\n",
       "      <td>195.621</td>\n",
       "      <td>-13.9489</td>\n",
       "    </tr>\n",
       "    <tr>\n",
       "      <th>35</th>\n",
       "      <td>Luggage dropoff allowed</td>\n",
       "      <td>179.034</td>\n",
       "      <td>194.336</td>\n",
       "      <td>-15.302</td>\n",
       "    </tr>\n",
       "    <tr>\n",
       "      <th>31</th>\n",
       "      <td>Extra pillows and blankets</td>\n",
       "      <td>176.496</td>\n",
       "      <td>198.239</td>\n",
       "      <td>-21.7428</td>\n",
       "    </tr>\n",
       "    <tr>\n",
       "      <th>38</th>\n",
       "      <td>Lock on bedroom door</td>\n",
       "      <td>158.29</td>\n",
       "      <td>197.345</td>\n",
       "      <td>-39.0549</td>\n",
       "    </tr>\n",
       "    <tr>\n",
       "      <th>30</th>\n",
       "      <td>Long term stays allowed</td>\n",
       "      <td>166.098</td>\n",
       "      <td>206.57</td>\n",
       "      <td>-40.4721</td>\n",
       "    </tr>\n",
       "    <tr>\n",
       "      <th>27</th>\n",
       "      <td>Free street parking</td>\n",
       "      <td>168.574</td>\n",
       "      <td>209.759</td>\n",
       "      <td>-41.1851</td>\n",
       "    </tr>\n",
       "    <tr>\n",
       "      <th>7</th>\n",
       "      <td>Kitchen</td>\n",
       "      <td>185.17</td>\n",
       "      <td>231.387</td>\n",
       "      <td>-46.2176</td>\n",
       "    </tr>\n",
       "    <tr>\n",
       "      <th>19</th>\n",
       "      <td>Coffee maker</td>\n",
       "      <td>169.668</td>\n",
       "      <td>219.847</td>\n",
       "      <td>-50.1791</td>\n",
       "    </tr>\n",
       "    <tr>\n",
       "      <th>26</th>\n",
       "      <td>Oven</td>\n",
       "      <td>163.352</td>\n",
       "      <td>216.849</td>\n",
       "      <td>-53.4962</td>\n",
       "    </tr>\n",
       "    <tr>\n",
       "      <th>25</th>\n",
       "      <td>Stove</td>\n",
       "      <td>164.149</td>\n",
       "      <td>217.97</td>\n",
       "      <td>-53.8213</td>\n",
       "    </tr>\n",
       "    <tr>\n",
       "      <th>24</th>\n",
       "      <td>Bed linens</td>\n",
       "      <td>164.231</td>\n",
       "      <td>218.568</td>\n",
       "      <td>-54.3372</td>\n",
       "    </tr>\n",
       "    <tr>\n",
       "      <th>23</th>\n",
       "      <td>Cooking basics</td>\n",
       "      <td>164.339</td>\n",
       "      <td>219.051</td>\n",
       "      <td>-54.7126</td>\n",
       "    </tr>\n",
       "    <tr>\n",
       "      <th>37</th>\n",
       "      <td>Lockbox</td>\n",
       "      <td>143.831</td>\n",
       "      <td>200.844</td>\n",
       "      <td>-57.0124</td>\n",
       "    </tr>\n",
       "    <tr>\n",
       "      <th>4</th>\n",
       "      <td>Hangers</td>\n",
       "      <td>184.789</td>\n",
       "      <td>250.165</td>\n",
       "      <td>-65.3763</td>\n",
       "    </tr>\n",
       "    <tr>\n",
       "      <th>20</th>\n",
       "      <td>Microwave</td>\n",
       "      <td>159.873</td>\n",
       "      <td>231.847</td>\n",
       "      <td>-71.974</td>\n",
       "    </tr>\n",
       "    <tr>\n",
       "      <th>17</th>\n",
       "      <td>Refrigerator</td>\n",
       "      <td>158.848</td>\n",
       "      <td>240.409</td>\n",
       "      <td>-81.5611</td>\n",
       "    </tr>\n",
       "    <tr>\n",
       "      <th>18</th>\n",
       "      <td>Dishes and silverware</td>\n",
       "      <td>157.429</td>\n",
       "      <td>240.32</td>\n",
       "      <td>-82.8914</td>\n",
       "    </tr>\n",
       "    <tr>\n",
       "      <th>14</th>\n",
       "      <td>Hot water</td>\n",
       "      <td>162.681</td>\n",
       "      <td>263.24</td>\n",
       "      <td>-100.559</td>\n",
       "    </tr>\n",
       "    <tr>\n",
       "      <th>0</th>\n",
       "      <td>Wifi</td>\n",
       "      <td>187.506</td>\n",
       "      <td>315.531</td>\n",
       "      <td>-128.026</td>\n",
       "    </tr>\n",
       "    <tr>\n",
       "      <th>1</th>\n",
       "      <td>Essentials</td>\n",
       "      <td>176.927</td>\n",
       "      <td>425.234</td>\n",
       "      <td>-248.307</td>\n",
       "    </tr>\n",
       "  </tbody>\n",
       "</table>\n",
       "</div>"
      ],
      "text/plain": [
       "                  Amenity_name   Having Not_having Difference\n",
       "22            Air conditioning  225.699    151.825    73.8742\n",
       "36                    Elevator  240.335    178.891    61.4439\n",
       "9        Carbon monoxide alarm  201.297    149.072     52.225\n",
       "16    Free parking on premises  206.952    166.984    39.9679\n",
       "5                           TV  195.372    159.962    35.4098\n",
       "2                  Smoke alarm  193.506    161.489    32.0173\n",
       "39                     Bathtub  212.537    187.365    25.1725\n",
       "28               First aid kit   204.41    181.069    23.3416\n",
       "32                    Cable TV  204.333    184.882    19.4508\n",
       "10                       Dryer  193.456    181.813    11.6431\n",
       "8                         Iron  192.808    184.245     8.5627\n",
       "6                   Hair dryer  192.098    185.273    6.82471\n",
       "15           Fire extinguisher  193.271    187.707    5.56439\n",
       "13   Laptop-friendly workspace  192.569     187.21    5.35947\n",
       "11                      Washer  192.052    187.691    4.36167\n",
       "12                     Shampoo  191.748    189.384    2.36374\n",
       "21            Private entrance   191.68    190.598    1.08183\n",
       "3                      Heating  191.137    191.649  -0.512198\n",
       "34          Garden or backyard  182.711    193.602   -10.8916\n",
       "29                  Dishwasher  184.212    195.808   -11.5965\n",
       "33            Patio or balcony  181.672    195.621   -13.9489\n",
       "35     Luggage dropoff allowed  179.034    194.336    -15.302\n",
       "31  Extra pillows and blankets  176.496    198.239   -21.7428\n",
       "38        Lock on bedroom door   158.29    197.345   -39.0549\n",
       "30     Long term stays allowed  166.098     206.57   -40.4721\n",
       "27         Free street parking  168.574    209.759   -41.1851\n",
       "7                      Kitchen   185.17    231.387   -46.2176\n",
       "19                Coffee maker  169.668    219.847   -50.1791\n",
       "26                        Oven  163.352    216.849   -53.4962\n",
       "25                       Stove  164.149     217.97   -53.8213\n",
       "24                  Bed linens  164.231    218.568   -54.3372\n",
       "23              Cooking basics  164.339    219.051   -54.7126\n",
       "37                     Lockbox  143.831    200.844   -57.0124\n",
       "4                      Hangers  184.789    250.165   -65.3763\n",
       "20                   Microwave  159.873    231.847    -71.974\n",
       "17                Refrigerator  158.848    240.409   -81.5611\n",
       "18       Dishes and silverware  157.429     240.32   -82.8914\n",
       "14                   Hot water  162.681     263.24   -100.559\n",
       "0                         Wifi  187.506    315.531   -128.026\n",
       "1                   Essentials  176.927    425.234   -248.307"
      ]
     },
     "execution_count": 169,
     "metadata": {},
     "output_type": "execute_result"
    }
   ],
   "source": [
    "a_price = amenities_importance(SantaM, a_count, 'price', top)\n",
    "a_price.sort_values('Difference', ascending=False) # because we want to find out the amenities that increase the price, the result will be descending based on the values in the \"Difference\" column"
   ]
  },
  {
   "cell_type": "markdown",
   "metadata": {},
   "source": [
    "It's interesting to see that in term of price, the most \"helpful\" amenities are AC, Elevator, CO alarm, Free parking on premises, TV, Smoke alarm, Bathtub, and First aid kit. None of the previously found \"helpful\" features for booking rate appears here. Based on my own observation, many travelers who come to Santa Monica are for short-term study and working (internship), so more basic amenities (such as Wifi, Essentials, Hangers and Refrigerator) help them settle down in this area at lower cost, while more upgraded amenities (such as AC, Elevator and Bathtub) do not help a listing become more popular likely because they increase the price. The results I found in answering Question 3 seem to support my observations. "
   ]
  },
  {
   "cell_type": "markdown",
   "metadata": {},
   "source": [
    "## Evaluation"
   ]
  },
  {
   "cell_type": "markdown",
   "metadata": {},
   "source": [
    "Here are my findings when I seek the answers to the above three questions:  \n",
    "(1) \"Entire home/apt\" is the most popular room type in Santa Monica in Nov. 2020, these listings have high booking rate despite their relatively high prices.  \n",
    "(2) \"Shared bathrooms\" do not make the listing less popular, but they decrease the average listing price.  \n",
    "(3) More than 80% of Santa Monica listings provide Wifi, Essentials, Smoke alarm, Heating, Hanger, TV, Hair dryer, and Kitchen, so it's very convenient for travelers to stay in Santa Monica Airbnbs for working-from-home and cooking.  \n",
    "(4) To increase the booking rate, a host in Santa Monica can add more basic amenities (for example, we are considering to buy an iron for our guests), and to increase the price, a host can invest on more upgraded amenities."
   ]
  },
  {
   "cell_type": "code",
   "execution_count": null,
   "metadata": {},
   "outputs": [],
   "source": []
  }
 ],
 "metadata": {
  "kernelspec": {
   "display_name": "Python 3",
   "language": "python",
   "name": "python3"
  },
  "language_info": {
   "codemirror_mode": {
    "name": "ipython",
    "version": 3
   },
   "file_extension": ".py",
   "mimetype": "text/x-python",
   "name": "python",
   "nbconvert_exporter": "python",
   "pygments_lexer": "ipython3",
   "version": "3.7.6"
  }
 },
 "nbformat": 4,
 "nbformat_minor": 4
}
