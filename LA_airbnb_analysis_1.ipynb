{
 "cells": [
  {
   "cell_type": "markdown",
   "metadata": {},
   "source": [
    "# Santa Monica Airbnb Data Analysis\n",
    "This is a notebook that contains an analysis of Airbnb data for LA that were compiled on Nov. 3, 2020, from http://insideairbnb.com/get-the-data.html\n",
    "The focus of this analysis is on the city of Santa Monica, where I live and host Airbnb myself. We are particularly interested in price/availability/amenities information in this area, and how price/availability are related to different features of the properties. "
   ]
  },
  {
   "cell_type": "markdown",
   "metadata": {},
   "source": [
    "We would like to find ways (add more amenities, renovate our property, etc.) to improve our booking rate and (hopefully also) the price. In order to achieve this goal, the three questions I would like to ask in this analysis are:  \n",
    "(1) How the price/availability relate to the room type and bath type?  \n",
    "(2) What are the popular amenities offered by the hosts in Santa Monica?  \n",
    "(3) What are the most influential features to estimate the price/availability of a listing?"
   ]
  },
  {
   "cell_type": "markdown",
   "metadata": {},
   "source": [
    "First, import the needed libraries and data"
   ]
  },
  {
   "cell_type": "code",
   "execution_count": 2,
   "metadata": {},
   "outputs": [],
   "source": [
    "import numpy as np\n",
    "import pandas as pd\n",
    "import matplotlib.pyplot as plt\n",
    "from sklearn.linear_model import LinearRegression\n",
    "from sklearn.model_selection import train_test_split\n",
    "from sklearn.metrics import r2_score, mean_squared_error\n",
    "import seaborn as sns\n",
    "from collections import defaultdict\n",
    "from sklearn.feature_selection import SelectKBest, f_regression\n",
    "import math\n",
    "%matplotlib inline"
   ]
  },
  {
   "cell_type": "code",
   "execution_count": 3,
   "metadata": {},
   "outputs": [
    {
     "data": {
      "text/html": [
       "<div>\n",
       "<style scoped>\n",
       "    .dataframe tbody tr th:only-of-type {\n",
       "        vertical-align: middle;\n",
       "    }\n",
       "\n",
       "    .dataframe tbody tr th {\n",
       "        vertical-align: top;\n",
       "    }\n",
       "\n",
       "    .dataframe thead th {\n",
       "        text-align: right;\n",
       "    }\n",
       "</style>\n",
       "<table border=\"1\" class=\"dataframe\">\n",
       "  <thead>\n",
       "    <tr style=\"text-align: right;\">\n",
       "      <th></th>\n",
       "      <th>id</th>\n",
       "      <th>listing_url</th>\n",
       "      <th>scrape_id</th>\n",
       "      <th>last_scraped</th>\n",
       "      <th>name</th>\n",
       "      <th>description</th>\n",
       "      <th>neighborhood_overview</th>\n",
       "      <th>picture_url</th>\n",
       "      <th>host_id</th>\n",
       "      <th>host_url</th>\n",
       "      <th>...</th>\n",
       "      <th>review_scores_communication</th>\n",
       "      <th>review_scores_location</th>\n",
       "      <th>review_scores_value</th>\n",
       "      <th>license</th>\n",
       "      <th>instant_bookable</th>\n",
       "      <th>calculated_host_listings_count</th>\n",
       "      <th>calculated_host_listings_count_entire_homes</th>\n",
       "      <th>calculated_host_listings_count_private_rooms</th>\n",
       "      <th>calculated_host_listings_count_shared_rooms</th>\n",
       "      <th>reviews_per_month</th>\n",
       "    </tr>\n",
       "  </thead>\n",
       "  <tbody>\n",
       "    <tr>\n",
       "      <th>0</th>\n",
       "      <td>109</td>\n",
       "      <td>https://www.airbnb.com/rooms/109</td>\n",
       "      <td>20201009145904</td>\n",
       "      <td>2020-10-25</td>\n",
       "      <td>Amazing bright elegant condo park front *UPGRA...</td>\n",
       "      <td>*** Unit upgraded with new bamboo flooring, br...</td>\n",
       "      <td>NaN</td>\n",
       "      <td>https://a0.muscache.com/pictures/4321499/1da98...</td>\n",
       "      <td>521</td>\n",
       "      <td>https://www.airbnb.com/users/show/521</td>\n",
       "      <td>...</td>\n",
       "      <td>8.0</td>\n",
       "      <td>10.0</td>\n",
       "      <td>8.0</td>\n",
       "      <td>NaN</td>\n",
       "      <td>f</td>\n",
       "      <td>1</td>\n",
       "      <td>1</td>\n",
       "      <td>0</td>\n",
       "      <td>0</td>\n",
       "      <td>0.02</td>\n",
       "    </tr>\n",
       "    <tr>\n",
       "      <th>1</th>\n",
       "      <td>2708</td>\n",
       "      <td>https://www.airbnb.com/rooms/2708</td>\n",
       "      <td>20201009145904</td>\n",
       "      <td>2020-10-10</td>\n",
       "      <td>Beautiful Furnish Mirrored Mini-Suite w/ Firep...</td>\n",
       "      <td>Beautiful Furnished Mirror Mini-Suite w/ Firep...</td>\n",
       "      <td>We are minutes away from the Mentor Language I...</td>\n",
       "      <td>https://a0.muscache.com/pictures/miso/Hosting-...</td>\n",
       "      <td>3008</td>\n",
       "      <td>https://www.airbnb.com/users/show/3008</td>\n",
       "      <td>...</td>\n",
       "      <td>10.0</td>\n",
       "      <td>10.0</td>\n",
       "      <td>10.0</td>\n",
       "      <td>NaN</td>\n",
       "      <td>t</td>\n",
       "      <td>2</td>\n",
       "      <td>0</td>\n",
       "      <td>2</td>\n",
       "      <td>0</td>\n",
       "      <td>0.35</td>\n",
       "    </tr>\n",
       "    <tr>\n",
       "      <th>2</th>\n",
       "      <td>2732</td>\n",
       "      <td>https://www.airbnb.com/rooms/2732</td>\n",
       "      <td>20201009145904</td>\n",
       "      <td>2020-10-18</td>\n",
       "      <td>Zen Life at the Beach</td>\n",
       "      <td>An oasis of tranquility awaits you.&lt;br /&gt;&lt;br /...</td>\n",
       "      <td>This is the best part of Santa Monica. Quiet, ...</td>\n",
       "      <td>https://a0.muscache.com/pictures/1082974/0f74c...</td>\n",
       "      <td>3041</td>\n",
       "      <td>https://www.airbnb.com/users/show/3041</td>\n",
       "      <td>...</td>\n",
       "      <td>9.0</td>\n",
       "      <td>10.0</td>\n",
       "      <td>9.0</td>\n",
       "      <td>228269</td>\n",
       "      <td>f</td>\n",
       "      <td>2</td>\n",
       "      <td>1</td>\n",
       "      <td>1</td>\n",
       "      <td>0</td>\n",
       "      <td>0.18</td>\n",
       "    </tr>\n",
       "    <tr>\n",
       "      <th>3</th>\n",
       "      <td>2864</td>\n",
       "      <td>https://www.airbnb.com/rooms/2864</td>\n",
       "      <td>20201009145904</td>\n",
       "      <td>2020-10-10</td>\n",
       "      <td>* Beautiful Master Suite/Jacuzzi Tub/*</td>\n",
       "      <td>Centrally located.... Furnished with King Size...</td>\n",
       "      <td>What makes the neighborhood unique is that the...</td>\n",
       "      <td>https://a0.muscache.com/pictures/23817858/de20...</td>\n",
       "      <td>3207</td>\n",
       "      <td>https://www.airbnb.com/users/show/3207</td>\n",
       "      <td>...</td>\n",
       "      <td>NaN</td>\n",
       "      <td>NaN</td>\n",
       "      <td>NaN</td>\n",
       "      <td>NaN</td>\n",
       "      <td>t</td>\n",
       "      <td>1</td>\n",
       "      <td>1</td>\n",
       "      <td>0</td>\n",
       "      <td>0</td>\n",
       "      <td>NaN</td>\n",
       "    </tr>\n",
       "    <tr>\n",
       "      <th>4</th>\n",
       "      <td>5729</td>\n",
       "      <td>https://www.airbnb.com/rooms/5729</td>\n",
       "      <td>20201009145904</td>\n",
       "      <td>2020-10-25</td>\n",
       "      <td>Zen Room with Floating Bed near Venice and LAX</td>\n",
       "      <td>Our home is located near Venice Beach without ...</td>\n",
       "      <td>Our neighborhood is very quiet and save. There...</td>\n",
       "      <td>https://a0.muscache.com/pictures/f48e3ea8-2075...</td>\n",
       "      <td>9171</td>\n",
       "      <td>https://www.airbnb.com/users/show/9171</td>\n",
       "      <td>...</td>\n",
       "      <td>10.0</td>\n",
       "      <td>10.0</td>\n",
       "      <td>9.0</td>\n",
       "      <td>NaN</td>\n",
       "      <td>f</td>\n",
       "      <td>4</td>\n",
       "      <td>1</td>\n",
       "      <td>3</td>\n",
       "      <td>0</td>\n",
       "      <td>1.69</td>\n",
       "    </tr>\n",
       "  </tbody>\n",
       "</table>\n",
       "<p>5 rows × 74 columns</p>\n",
       "</div>"
      ],
      "text/plain": [
       "     id                        listing_url       scrape_id last_scraped  \\\n",
       "0   109   https://www.airbnb.com/rooms/109  20201009145904   2020-10-25   \n",
       "1  2708  https://www.airbnb.com/rooms/2708  20201009145904   2020-10-10   \n",
       "2  2732  https://www.airbnb.com/rooms/2732  20201009145904   2020-10-18   \n",
       "3  2864  https://www.airbnb.com/rooms/2864  20201009145904   2020-10-10   \n",
       "4  5729  https://www.airbnb.com/rooms/5729  20201009145904   2020-10-25   \n",
       "\n",
       "                                                name  \\\n",
       "0  Amazing bright elegant condo park front *UPGRA...   \n",
       "1  Beautiful Furnish Mirrored Mini-Suite w/ Firep...   \n",
       "2                              Zen Life at the Beach   \n",
       "3             * Beautiful Master Suite/Jacuzzi Tub/*   \n",
       "4     Zen Room with Floating Bed near Venice and LAX   \n",
       "\n",
       "                                         description  \\\n",
       "0  *** Unit upgraded with new bamboo flooring, br...   \n",
       "1  Beautiful Furnished Mirror Mini-Suite w/ Firep...   \n",
       "2  An oasis of tranquility awaits you.<br /><br /...   \n",
       "3  Centrally located.... Furnished with King Size...   \n",
       "4  Our home is located near Venice Beach without ...   \n",
       "\n",
       "                               neighborhood_overview  \\\n",
       "0                                                NaN   \n",
       "1  We are minutes away from the Mentor Language I...   \n",
       "2  This is the best part of Santa Monica. Quiet, ...   \n",
       "3  What makes the neighborhood unique is that the...   \n",
       "4  Our neighborhood is very quiet and save. There...   \n",
       "\n",
       "                                         picture_url  host_id  \\\n",
       "0  https://a0.muscache.com/pictures/4321499/1da98...      521   \n",
       "1  https://a0.muscache.com/pictures/miso/Hosting-...     3008   \n",
       "2  https://a0.muscache.com/pictures/1082974/0f74c...     3041   \n",
       "3  https://a0.muscache.com/pictures/23817858/de20...     3207   \n",
       "4  https://a0.muscache.com/pictures/f48e3ea8-2075...     9171   \n",
       "\n",
       "                                 host_url  ... review_scores_communication  \\\n",
       "0   https://www.airbnb.com/users/show/521  ...                         8.0   \n",
       "1  https://www.airbnb.com/users/show/3008  ...                        10.0   \n",
       "2  https://www.airbnb.com/users/show/3041  ...                         9.0   \n",
       "3  https://www.airbnb.com/users/show/3207  ...                         NaN   \n",
       "4  https://www.airbnb.com/users/show/9171  ...                        10.0   \n",
       "\n",
       "  review_scores_location review_scores_value license instant_bookable  \\\n",
       "0                   10.0                 8.0     NaN                f   \n",
       "1                   10.0                10.0     NaN                t   \n",
       "2                   10.0                 9.0  228269                f   \n",
       "3                    NaN                 NaN     NaN                t   \n",
       "4                   10.0                 9.0     NaN                f   \n",
       "\n",
       "  calculated_host_listings_count calculated_host_listings_count_entire_homes  \\\n",
       "0                              1                                           1   \n",
       "1                              2                                           0   \n",
       "2                              2                                           1   \n",
       "3                              1                                           1   \n",
       "4                              4                                           1   \n",
       "\n",
       "  calculated_host_listings_count_private_rooms  \\\n",
       "0                                            0   \n",
       "1                                            2   \n",
       "2                                            1   \n",
       "3                                            0   \n",
       "4                                            3   \n",
       "\n",
       "  calculated_host_listings_count_shared_rooms reviews_per_month  \n",
       "0                                           0              0.02  \n",
       "1                                           0              0.35  \n",
       "2                                           0              0.18  \n",
       "3                                           0               NaN  \n",
       "4                                           0              1.69  \n",
       "\n",
       "[5 rows x 74 columns]"
      ]
     },
     "execution_count": 3,
     "metadata": {},
     "output_type": "execute_result"
    }
   ],
   "source": [
    "df = pd.read_csv('listings.csv')\n",
    "df.head()"
   ]
  },
  {
   "cell_type": "code",
   "execution_count": 4,
   "metadata": {},
   "outputs": [
    {
     "data": {
      "text/plain": [
       "(30533, 74)"
      ]
     },
     "execution_count": 4,
     "metadata": {},
     "output_type": "execute_result"
    }
   ],
   "source": [
    "df.shape"
   ]
  },
  {
   "cell_type": "markdown",
   "metadata": {},
   "source": [
    "So there are 30533 listings in LA in Nov, 2020, and there are 74 features. Let's take a look at the data type of these features."
   ]
  },
  {
   "cell_type": "code",
   "execution_count": 5,
   "metadata": {
    "scrolled": true
   },
   "outputs": [
    {
     "data": {
      "text/plain": [
       "object     35\n",
       "float64    22\n",
       "int64      17\n",
       "dtype: int64"
      ]
     },
     "execution_count": 5,
     "metadata": {},
     "output_type": "execute_result"
    }
   ],
   "source": [
    "df.dtypes.value_counts()"
   ]
  },
  {
   "cell_type": "code",
   "execution_count": 6,
   "metadata": {},
   "outputs": [
    {
     "data": {
      "text/plain": [
       "Index(['listing_url', 'last_scraped', 'name', 'description',\n",
       "       'neighborhood_overview', 'picture_url', 'host_url', 'host_name',\n",
       "       'host_since', 'host_location', 'host_about', 'host_response_time',\n",
       "       'host_response_rate', 'host_acceptance_rate', 'host_is_superhost',\n",
       "       'host_thumbnail_url', 'host_picture_url', 'host_neighbourhood',\n",
       "       'host_verifications', 'host_has_profile_pic', 'host_identity_verified',\n",
       "       'neighbourhood', 'neighbourhood_cleansed',\n",
       "       'neighbourhood_group_cleansed', 'property_type', 'room_type',\n",
       "       'bathrooms_text', 'amenities', 'price', 'has_availability',\n",
       "       'calendar_last_scraped', 'first_review', 'last_review', 'license',\n",
       "       'instant_bookable'],\n",
       "      dtype='object')"
      ]
     },
     "execution_count": 6,
     "metadata": {},
     "output_type": "execute_result"
    }
   ],
   "source": [
    "# find the name of the columns which are objects data type\n",
    "df.select_dtypes('O').columns"
   ]
  },
  {
   "cell_type": "code",
   "execution_count": 7,
   "metadata": {
    "scrolled": true
   },
   "outputs": [
    {
     "data": {
      "text/plain": [
       "Index(['host_listings_count', 'host_total_listings_count', 'latitude',\n",
       "       'longitude', 'bathrooms', 'bedrooms', 'beds', 'minimum_minimum_nights',\n",
       "       'maximum_minimum_nights', 'minimum_maximum_nights',\n",
       "       'maximum_maximum_nights', 'minimum_nights_avg_ntm',\n",
       "       'maximum_nights_avg_ntm', 'calendar_updated', 'review_scores_rating',\n",
       "       'review_scores_accuracy', 'review_scores_cleanliness',\n",
       "       'review_scores_checkin', 'review_scores_communication',\n",
       "       'review_scores_location', 'review_scores_value', 'reviews_per_month'],\n",
       "      dtype='object')"
      ]
     },
     "execution_count": 7,
     "metadata": {},
     "output_type": "execute_result"
    }
   ],
   "source": [
    "# find the name of the columns which are float64 data type\n",
    "df.select_dtypes('float64').columns"
   ]
  },
  {
   "cell_type": "code",
   "execution_count": 8,
   "metadata": {},
   "outputs": [
    {
     "data": {
      "text/plain": [
       "Index(['id', 'scrape_id', 'host_id', 'accommodates', 'minimum_nights',\n",
       "       'maximum_nights', 'availability_30', 'availability_60',\n",
       "       'availability_90', 'availability_365', 'number_of_reviews',\n",
       "       'number_of_reviews_ltm', 'number_of_reviews_l30d',\n",
       "       'calculated_host_listings_count',\n",
       "       'calculated_host_listings_count_entire_homes',\n",
       "       'calculated_host_listings_count_private_rooms',\n",
       "       'calculated_host_listings_count_shared_rooms'],\n",
       "      dtype='object')"
      ]
     },
     "execution_count": 8,
     "metadata": {},
     "output_type": "execute_result"
    }
   ],
   "source": [
    "# find the name of the columns which are int64 data type\n",
    "df.select_dtypes('int64').columns"
   ]
  },
  {
   "cell_type": "markdown",
   "metadata": {},
   "source": [
    "As mentioned, I want to focus on \"Santa Monica\" neighborhood. Thus in the following, I will select data from this particular neighborhood and name this new dataframe as \"SantaM\"."
   ]
  },
  {
   "cell_type": "code",
   "execution_count": 9,
   "metadata": {
    "scrolled": true
   },
   "outputs": [
    {
     "data": {
      "text/plain": [
       "(1116, 74)"
      ]
     },
     "execution_count": 9,
     "metadata": {},
     "output_type": "execute_result"
    }
   ],
   "source": [
    "SantaM = df[df.neighbourhood_cleansed=='Santa Monica']\n",
    "# make the index start with 0 for the new dataframe\n",
    "SantaM.index=range(len(SantaM))\n",
    "SantaM.shape"
   ]
  },
  {
   "cell_type": "markdown",
   "metadata": {},
   "source": [
    "So there are 1116 listings in Santa Monica in Nov. 2020. Then let's see among these listings, how many values are missing for each feature."
   ]
  },
  {
   "cell_type": "code",
   "execution_count": 10,
   "metadata": {
    "scrolled": true
   },
   "outputs": [
    {
     "data": {
      "text/plain": [
       "bathrooms                                       1116\n",
       "calendar_updated                                1116\n",
       "license                                          571\n",
       "neighborhood_overview                            431\n",
       "neighbourhood                                    431\n",
       "host_about                                       348\n",
       "review_scores_location                           272\n",
       "review_scores_checkin                            272\n",
       "review_scores_communication                      272\n",
       "review_scores_value                              272\n",
       "review_scores_cleanliness                        271\n",
       "review_scores_accuracy                           271\n",
       "review_scores_rating                             268\n",
       "last_review                                      263\n",
       "first_review                                     263\n",
       "reviews_per_month                                263\n",
       "host_response_rate                               163\n",
       "host_response_time                               163\n",
       "host_acceptance_rate                             142\n",
       "bedrooms                                         136\n",
       "host_neighbourhood                                83\n",
       "description                                       19\n",
       "beds                                               4\n",
       "bathrooms_text                                     2\n",
       "host_location                                      1\n",
       "availability_365                                   0\n",
       "calculated_host_listings_count                     0\n",
       "host_verifications                                 0\n",
       "host_total_listings_count                          0\n",
       "host_listings_count                                0\n",
       "host_picture_url                                   0\n",
       "host_thumbnail_url                                 0\n",
       "host_is_superhost                                  0\n",
       "number_of_reviews_l30d                             0\n",
       "instant_bookable                                   0\n",
       "calculated_host_listings_count_entire_homes        0\n",
       "host_identity_verified                             0\n",
       "host_since                                         0\n",
       "host_name                                          0\n",
       "host_url                                           0\n",
       "host_id                                            0\n",
       "picture_url                                        0\n",
       "calculated_host_listings_count_private_rooms       0\n",
       "name                                               0\n",
       "last_scraped                                       0\n",
       "scrape_id                                          0\n",
       "listing_url                                        0\n",
       "host_has_profile_pic                               0\n",
       "number_of_reviews_ltm                              0\n",
       "availability_90                                    0\n",
       "maximum_nights                                     0\n",
       "availability_60                                    0\n",
       "availability_30                                    0\n",
       "has_availability                                   0\n",
       "calendar_last_scraped                              0\n",
       "maximum_nights_avg_ntm                             0\n",
       "minimum_nights_avg_ntm                             0\n",
       "maximum_maximum_nights                             0\n",
       "minimum_maximum_nights                             0\n",
       "maximum_minimum_nights                             0\n",
       "minimum_minimum_nights                             0\n",
       "minimum_nights                                     0\n",
       "neighbourhood_cleansed                             0\n",
       "price                                              0\n",
       "amenities                                          0\n",
       "calculated_host_listings_count_shared_rooms        0\n",
       "number_of_reviews                                  0\n",
       "accommodates                                       0\n",
       "room_type                                          0\n",
       "property_type                                      0\n",
       "longitude                                          0\n",
       "latitude                                           0\n",
       "neighbourhood_group_cleansed                       0\n",
       "id                                                 0\n",
       "dtype: int64"
      ]
     },
     "execution_count": 10,
     "metadata": {},
     "output_type": "execute_result"
    }
   ],
   "source": [
    "pd.set_option('display.max_rows', 74)\n",
    "SantaM.isnull().sum().sort_values(ascending=False)"
   ]
  },
  {
   "cell_type": "markdown",
   "metadata": {},
   "source": [
    "It's good to find that most of the features to be considered in this analysis have zero or very few missing values. "
   ]
  },
  {
   "cell_type": "markdown",
   "metadata": {},
   "source": [
    "### Question 1\n",
    "How the price/availability relate to the room type and bath type?  \n",
    "From previous lines, we know that both \"availability_30\" and \"price\" features have no missing values (great).\n",
    "One thing before we do further analysis is that \"price\" feature is an \"object\" type, instead of a \"float\" type, so we need to convert it first."
   ]
  },
  {
   "cell_type": "code",
   "execution_count": 11,
   "metadata": {
    "scrolled": false
   },
   "outputs": [
    {
     "name": "stderr",
     "output_type": "stream",
     "text": [
      "/Users/zhaoli/opt/anaconda3/lib/python3.7/site-packages/pandas/core/generic.py:5303: SettingWithCopyWarning: \n",
      "A value is trying to be set on a copy of a slice from a DataFrame.\n",
      "Try using .loc[row_indexer,col_indexer] = value instead\n",
      "\n",
      "See the caveats in the documentation: https://pandas.pydata.org/pandas-docs/stable/user_guide/indexing.html#returning-a-view-versus-a-copy\n",
      "  self[name] = value\n"
     ]
    }
   ],
   "source": [
    "SantaM.price = SantaM.price.str.replace('$', '')\n",
    "SantaM.price = SantaM.price.str.replace(',', '')\n",
    "SantaM.price = SantaM.price.astype('float')"
   ]
  },
  {
   "cell_type": "code",
   "execution_count": 12,
   "metadata": {
    "scrolled": true
   },
   "outputs": [
    {
     "data": {
      "text/plain": [
       "Entire home/apt    833\n",
       "Private room       268\n",
       "Shared room          9\n",
       "Hotel room           6\n",
       "Name: room_type, dtype: int64"
      ]
     },
     "execution_count": 12,
     "metadata": {},
     "output_type": "execute_result"
    }
   ],
   "source": [
    "SantaM.room_type.value_counts().sort_values(ascending=False)"
   ]
  },
  {
   "cell_type": "code",
   "execution_count": 13,
   "metadata": {
    "scrolled": false
   },
   "outputs": [
    {
     "data": {
      "text/plain": [
       "room_type\n",
       "Hotel room         20.666667\n",
       "Private room       13.074627\n",
       "Shared room        11.333333\n",
       "Entire home/apt    10.369748\n",
       "Name: availability_30, dtype: float64"
      ]
     },
     "execution_count": 13,
     "metadata": {},
     "output_type": "execute_result"
    }
   ],
   "source": [
    "SantaM.groupby(['room_type'])['availability_30'].mean().sort_values(ascending=False)"
   ]
  },
  {
   "cell_type": "code",
   "execution_count": 129,
   "metadata": {
    "scrolled": false
   },
   "outputs": [
    {
     "data": {
      "image/png": "[encoded data removed]",
      "text/plain": [
       "<Figure size 2400x1200 with 1 Axes>"
      ]
     },
     "metadata": {
      "needs_background": "light"
     },
     "output_type": "display_data"
    }
   ],
   "source": [
    "# Plot a bar chart to visualize availability of different room types for next 30 days\n",
    "(SantaM.groupby(['room_type'])['availability_30'].mean().sort_values(ascending=False)).plot(kind='bar', legend=None)\n",
    "plt.title('Availabilities for Next 30 Days Depending On room_type')\n",
    "plt.ylabel('Available Days in the Next 30 Days')\n",
    "plt.rcParams['figure.figsize'] = [16, 8]\n",
    "plt.show()"
   ]
  },
  {
   "cell_type": "code",
   "execution_count": 15,
   "metadata": {},
   "outputs": [
    {
     "data": {
      "text/plain": [
       "room_type\n",
       "Hotel room         268.833333\n",
       "Entire home/apt    204.181152\n",
       "Private room       149.786231\n",
       "Shared room        147.444444\n",
       "Name: price, dtype: float64"
      ]
     },
     "execution_count": 15,
     "metadata": {},
     "output_type": "execute_result"
    }
   ],
   "source": [
    "SantaM.groupby(['room_type'])['price'].mean().sort_values(ascending=False)"
   ]
  },
  {
   "cell_type": "code",
   "execution_count": 19,
   "metadata": {
    "scrolled": true
   },
   "outputs": [
    {
     "data": {
      "image/png": "[encoded data removed]",
      "text/plain": [
       "<Figure size 720x432 with 1 Axes>"
      ]
     },
     "metadata": {
      "needs_background": "light"
     },
     "output_type": "display_data"
    }
   ],
   "source": [
    "(SantaM.groupby(['room_type'])['price'].mean().sort_values(ascending=False)).plot(kind='bar', legend=None)\n",
    "plt.title('Price Depending On room_type')\n",
    "plt.ylabel('$ Price Per Night')\n",
    "#plt.rcParams['figure.figsize'] = [10, 6]\n",
    "plt.show()"
   ]
  },
  {
   "cell_type": "code",
   "execution_count": 20,
   "metadata": {
    "scrolled": true
   },
   "outputs": [
    {
     "data": {
      "text/plain": [
       "1 bath               583\n",
       "2 baths              191\n",
       "1 private bath       134\n",
       "1 shared bath         82\n",
       "1.5 baths             38\n",
       "2.5 baths             21\n",
       "3 baths               21\n",
       "1.5 shared baths      19\n",
       "4 baths                7\n",
       "2 shared baths         5\n",
       "4.5 baths              4\n",
       "3.5 baths              3\n",
       "5 baths                2\n",
       "Private half-bath      1\n",
       "Shared half-bath       1\n",
       "6 baths                1\n",
       "2.5 shared baths       1\n",
       "Name: bathrooms_text, dtype: int64"
      ]
     },
     "execution_count": 20,
     "metadata": {},
     "output_type": "execute_result"
    }
   ],
   "source": [
    "SantaM.bathrooms_text.value_counts().sort_values(ascending=False)"
   ]
  },
  {
   "cell_type": "code",
   "execution_count": 21,
   "metadata": {
    "scrolled": true
   },
   "outputs": [
    {
     "data": {
      "text/plain": [
       "bathrooms_text\n",
       "6 baths              30.000000\n",
       "Shared half-bath     29.000000\n",
       "2.5 shared baths     23.000000\n",
       "4.5 baths            20.250000\n",
       "5 baths              19.000000\n",
       "2 shared baths       18.000000\n",
       "3.5 baths            17.666667\n",
       "4 baths              16.428571\n",
       "2.5 baths            15.904762\n",
       "2 baths              14.664921\n",
       "1 private bath       12.828358\n",
       "1 shared bath        12.243902\n",
       "3 baths              12.142857\n",
       "1.5 baths            10.210526\n",
       "1.5 shared baths      9.631579\n",
       "1 bath                8.907376\n",
       "Private half-bath     2.000000\n",
       "Name: availability_30, dtype: float64"
      ]
     },
     "execution_count": 21,
     "metadata": {},
     "output_type": "execute_result"
    }
   ],
   "source": [
    "SantaM.groupby(['bathrooms_text'])['availability_30'].mean().sort_values(ascending=False)"
   ]
  },
  {
   "cell_type": "code",
   "execution_count": 22,
   "metadata": {
    "scrolled": false
   },
   "outputs": [
    {
     "data": {
      "image/png": "[encoded data removed]",
      "text/plain": [
       "<Figure size 720x432 with 1 Axes>"
      ]
     },
     "metadata": {
      "needs_background": "light"
     },
     "output_type": "display_data"
    }
   ],
   "source": [
    "(SantaM.groupby(['bathrooms_text'])['availability_30'].mean().sort_values(ascending=False)).plot(kind='bar', legend=None)\n",
    "plt.title('Availabilities for Next 30 Days Depending On bathroom_text')\n",
    "plt.ylabel('Available Days in the Next 30 Days')\n",
    "#plt.rcParams['figure.figsize'] = [16, 8]\n",
    "plt.show()"
   ]
  },
  {
   "cell_type": "code",
   "execution_count": 23,
   "metadata": {
    "scrolled": true
   },
   "outputs": [
    {
     "data": {
      "text/plain": [
       "bathrooms_text\n",
       "4.5 baths            1843.750000\n",
       "6 baths              1700.000000\n",
       "4 baths              1117.142857\n",
       "3.5 baths            1033.333333\n",
       "5 baths               567.500000\n",
       "3 baths               452.081429\n",
       "2.5 baths             329.212857\n",
       "2 baths               245.146597\n",
       "1 private bath        181.850746\n",
       "1.5 baths             165.710526\n",
       "1 bath                150.336930\n",
       "1 shared bath         104.353659\n",
       "Shared half-bath      100.000000\n",
       "2.5 shared baths       99.000000\n",
       "Private half-bath      85.000000\n",
       "2 shared baths         72.000000\n",
       "1.5 shared baths       64.421053\n",
       "Name: price, dtype: float64"
      ]
     },
     "execution_count": 23,
     "metadata": {},
     "output_type": "execute_result"
    }
   ],
   "source": [
    "SantaM.groupby(['bathrooms_text'])['price'].mean().sort_values(ascending=False)"
   ]
  },
  {
   "cell_type": "code",
   "execution_count": 24,
   "metadata": {
    "scrolled": false
   },
   "outputs": [
    {
     "data": {
      "image/png": "[encoded data removed]",
      "text/plain": [
       "<Figure size 720x432 with 1 Axes>"
      ]
     },
     "metadata": {
      "needs_background": "light"
     },
     "output_type": "display_data"
    }
   ],
   "source": [
    "(SantaM.groupby(['bathrooms_text'])['price'].mean().sort_values(ascending=False)).plot(kind='bar', legend=None)\n",
    "plt.title('Price Depending On bathrooms_text')\n",
    "plt.ylabel('$ Price Per Night')\n",
    "plt.rcParams['figure.figsize'] = [16, 8]\n",
    "plt.show()"
   ]
  },
  {
   "cell_type": "markdown",
   "metadata": {},
   "source": [
    "From these two plots, it's clear that although shared and private bathroom does not affect the availability very much, properties with private bathrooms have higher listing price on average than properties with shared bathrooms. This may be especially true durinng the pandemic (so one of my future practice will be to dig out archived data and see how much difference there is between private and shared bath before the pandemic)."
   ]
  },
  {
   "cell_type": "markdown",
   "metadata": {},
   "source": [
    "### Question 2\n",
    "Since it requires renovation (including HOA/city permit) to change the type of the room and bathroomm, let's take a look at whether addditional amenities will increase booking rate and price. What are the popular amenities offered by the hosts in Santa Monica? To answer this question, we need to first break the amenities text into individual amenity."
   ]
  },
  {
   "cell_type": "code",
   "execution_count": 41,
   "metadata": {},
   "outputs": [],
   "source": [
    "# break the amenities descriptions into individual amenity\n",
    "amenities_list = list(SantaM.amenities)\n",
    "amenities_list_string = \" \".join(amenities_list)\n",
    "amenities_list_string = amenities_list_string.replace('\"', '')\n",
    "amenities_list_string = amenities_list_string.replace('[', '')\n",
    "amenities_list_string = amenities_list_string.replace(']', ',')\n",
    "amenities_set = [x.strip() for x in amenities_list_string.split(',')] "
   ]
  },
  {
   "cell_type": "code",
   "execution_count": 74,
   "metadata": {},
   "outputs": [],
   "source": [
    "# count the frequency of individual amenity\n",
    "from collections import Counter\n",
    "temp = dict(Counter(amenities_set))\n",
    "a_count = pd.DataFrame.from_dict(temp,orient='index',columns=['count'])\n",
    "a_count.sort_values(\"count\",ascending=False,inplace=True)"
   ]
  },
  {
   "cell_type": "code",
   "execution_count": 82,
   "metadata": {
    "scrolled": true
   },
   "outputs": [
    {
     "data": {
      "text/plain": [
       "Index(['Wifi', 'Essentials', 'Smoke alarm', 'Heating', 'Hangers', 'TV',\n",
       "       'Hair dryer', 'Kitchen', 'Iron', 'Carbon monoxide alarm',\n",
       "       ...\n",
       "       '47\\ HDTV with Netflix', 'Puracy plant based and natural body soap',\n",
       "       'Trader Joes shampoo/body wash combo body soap',\n",
       "       'Trader Joes shampoo/body wash combo shampoo',\n",
       "       'Trader Joes conditioner', 'Wifi \\u2013 500 Mbps',\n",
       "       'large toster oven oven', 'various body soap',\n",
       "       'Free carport on premises \\u2013 1 space',\n",
       "       'Free parking garage on premises'],\n",
       "      dtype='object', length=177)"
      ]
     },
     "execution_count": 82,
     "metadata": {},
     "output_type": "execute_result"
    }
   ],
   "source": [
    "a_count.index"
   ]
  },
  {
   "cell_type": "code",
   "execution_count": 110,
   "metadata": {},
   "outputs": [
    {
     "data": {
      "image/png": "[encoded data removed]",
      "text/plain": [
       "<Figure size 2400x1200 with 1 Axes>"
      ]
     },
     "metadata": {
      "needs_background": "light"
     },
     "output_type": "display_data"
    }
   ],
   "source": [
    "#Here I create a bar chart to show the percentage of each amenity from the most common to the least common.\n",
    "top = 40\n",
    "(a_count/len(SantaM))[:top].plot(kind='bar', legend=None);\n",
    "plt.title('Top {} Most Common Amenities Provided by Santa Monica Hosts'.format(top));\n",
    "plt.ylabel('% Listings with the Amenities')\n",
    "plt.rcParams['figure.figsize'] = [16, 8]\n",
    "plt.rcParams['figure.dpi'] = 150\n",
    "plt.show()"
   ]
  },
  {
   "cell_type": "code",
   "execution_count": 132,
   "metadata": {},
   "outputs": [
    {
     "data": {
      "text/html": [
       "<div>\n",
       "<style scoped>\n",
       "    .dataframe tbody tr th:only-of-type {\n",
       "        vertical-align: middle;\n",
       "    }\n",
       "\n",
       "    .dataframe tbody tr th {\n",
       "        vertical-align: top;\n",
       "    }\n",
       "\n",
       "    .dataframe thead th {\n",
       "        text-align: right;\n",
       "    }\n",
       "</style>\n",
       "<table border=\"1\" class=\"dataframe\">\n",
       "  <thead>\n",
       "    <tr style=\"text-align: right;\">\n",
       "      <th></th>\n",
       "      <th>count</th>\n",
       "    </tr>\n",
       "  </thead>\n",
       "  <tbody>\n",
       "    <tr>\n",
       "      <th>Wifi</th>\n",
       "      <td>0.968638</td>\n",
       "    </tr>\n",
       "  </tbody>\n",
       "</table>\n",
       "</div>"
      ],
      "text/plain": [
       "         count\n",
       "Wifi  0.968638"
      ]
     },
     "execution_count": 132,
     "metadata": {},
     "output_type": "execute_result"
    }
   ],
   "source": [
    "(a_count/len(SantaM))[:1]"
   ]
  },
  {
   "cell_type": "markdown",
   "metadata": {},
   "source": [
    "From the plot, it's clear that more than 80% of the listings in Santa Monica are equipped with Wifi (96.9%), Essentials, Smoke alarm, Heating, Hangers, TV, and Kitchen. More than 60% of the listings are also equipped with Hair dryer, Iron, CO alarm, Dryer/Washer, Shampoo, Laptop-friendly workspace, and Hot water. "
   ]
  },
  {
   "cell_type": "markdown",
   "metadata": {},
   "source": [
    "### Question 3\n",
    "What are the most influential features to estimate the price/availability of a listing?"
   ]
  },
  {
   "cell_type": "code",
   "execution_count": 111,
   "metadata": {},
   "outputs": [
    {
     "name": "stderr",
     "output_type": "stream",
     "text": [
      "/Users/zhaoli/opt/anaconda3/lib/python3.7/site-packages/ipykernel_launcher.py:3: SettingWithCopyWarning: \n",
      "A value is trying to be set on a copy of a slice from a DataFrame.\n",
      "Try using .loc[row_indexer,col_indexer] = value instead\n",
      "\n",
      "See the caveats in the documentation: https://pandas.pydata.org/pandas-docs/stable/user_guide/indexing.html#returning-a-view-versus-a-copy\n",
      "  This is separate from the ipykernel package so we can avoid doing imports until\n",
      "/Users/zhaoli/opt/anaconda3/lib/python3.7/site-packages/pandas/core/indexing.py:965: SettingWithCopyWarning: \n",
      "A value is trying to be set on a copy of a slice from a DataFrame.\n",
      "Try using .loc[row_indexer,col_indexer] = value instead\n",
      "\n",
      "See the caveats in the documentation: https://pandas.pydata.org/pandas-docs/stable/user_guide/indexing.html#returning-a-view-versus-a-copy\n",
      "  self.obj[item] = s\n"
     ]
    }
   ],
   "source": [
    "top = 40\n",
    "for i in range(top):\n",
    "    SantaM[a_count.index[i]] = 0\n",
    "for i in range(top):\n",
    "    for t in range(len(SantaM)):\n",
    "        if a_count.index[i] in SantaM.amenities[t]:\n",
    "            SantaM.loc[t, a_count.index[i]] = 1\n",
    "        else:\n",
    "            SantaM.loc[t, a_count.index[i]] = 0"
   ]
  },
  {
   "cell_type": "markdown",
   "metadata": {},
   "source": [
    "First let's take a look at the availability data. We want to find out the amenities that can increase the booking rate (i.e., have lower availability in the coming 30 days)."
   ]
  },
  {
   "cell_type": "code",
   "execution_count": 116,
   "metadata": {
    "scrolled": true
   },
   "outputs": [],
   "source": [
    "a_importance = pd.DataFrame(index=range(0,top), columns = [\"Amenity_Name\", \"Availability_30 for HAVING the Amenity\", \"Availability_30 for NOT HAVING the Amenity\", \"Availability Difference\"])"
   ]
  },
  {
   "cell_type": "code",
   "execution_count": 118,
   "metadata": {},
   "outputs": [],
   "source": [
    "for i in range(top):\n",
    "    a_importance['Amenity_Name'][i] = a_count.index[i]\n",
    "    a_importance['Availability_30 for HAVING the Amenity'][i] = SantaM.groupby([a_count.index[i]])['availability_30'].mean()[1]\n",
    "    a_importance['Availability_30 for NOT HAVING the Amenity'][i] = SantaM.groupby([a_count.index[i]])['availability_30'].mean()[0]\n",
    "    a_importance['Availability Difference'][i] = a_importance['Availability_30 for HAVING the Amenity'][i] - a_importance['Availability_30 for NOT HAVING the Amenity'][i]"
   ]
  },
  {
   "cell_type": "code",
   "execution_count": 120,
   "metadata": {},
   "outputs": [
    {
     "data": {
      "text/html": [
       "<div>\n",
       "<style scoped>\n",
       "    .dataframe tbody tr th:only-of-type {\n",
       "        vertical-align: middle;\n",
       "    }\n",
       "\n",
       "    .dataframe tbody tr th {\n",
       "        vertical-align: top;\n",
       "    }\n",
       "\n",
       "    .dataframe thead th {\n",
       "        text-align: right;\n",
       "    }\n",
       "</style>\n",
       "<table border=\"1\" class=\"dataframe\">\n",
       "  <thead>\n",
       "    <tr style=\"text-align: right;\">\n",
       "      <th></th>\n",
       "      <th>Amenity_Name</th>\n",
       "      <th>Availability_30 for HAVING the Amenity</th>\n",
       "      <th>Availability_30 for NOT HAVING the Amenity</th>\n",
       "      <th>Availability Difference</th>\n",
       "    </tr>\n",
       "  </thead>\n",
       "  <tbody>\n",
       "    <tr>\n",
       "      <th>0</th>\n",
       "      <td>Wifi</td>\n",
       "      <td>10.8504</td>\n",
       "      <td>18.697</td>\n",
       "      <td>-7.84655</td>\n",
       "    </tr>\n",
       "    <tr>\n",
       "      <th>1</th>\n",
       "      <td>Essentials</td>\n",
       "      <td>10.7279</td>\n",
       "      <td>16.8154</td>\n",
       "      <td>-6.08751</td>\n",
       "    </tr>\n",
       "    <tr>\n",
       "      <th>4</th>\n",
       "      <td>Hangers</td>\n",
       "      <td>10.7289</td>\n",
       "      <td>14.3486</td>\n",
       "      <td>-3.61973</td>\n",
       "    </tr>\n",
       "    <tr>\n",
       "      <th>8</th>\n",
       "      <td>Iron</td>\n",
       "      <td>10.5996</td>\n",
       "      <td>13.1415</td>\n",
       "      <td>-2.54195</td>\n",
       "    </tr>\n",
       "    <tr>\n",
       "      <th>6</th>\n",
       "      <td>Hair dryer</td>\n",
       "      <td>10.7702</td>\n",
       "      <td>13.0933</td>\n",
       "      <td>-2.32315</td>\n",
       "    </tr>\n",
       "    <tr>\n",
       "      <th>24</th>\n",
       "      <td>Bed linens</td>\n",
       "      <td>9.96619</td>\n",
       "      <td>12.2148</td>\n",
       "      <td>-2.24861</td>\n",
       "    </tr>\n",
       "    <tr>\n",
       "      <th>17</th>\n",
       "      <td>Refrigerator</td>\n",
       "      <td>10.2838</td>\n",
       "      <td>12.2957</td>\n",
       "      <td>-2.01191</td>\n",
       "    </tr>\n",
       "    <tr>\n",
       "      <th>12</th>\n",
       "      <td>Shampoo</td>\n",
       "      <td>10.6057</td>\n",
       "      <td>12.5836</td>\n",
       "      <td>-1.97798</td>\n",
       "    </tr>\n",
       "    <tr>\n",
       "      <th>19</th>\n",
       "      <td>Coffee maker</td>\n",
       "      <td>10.2449</td>\n",
       "      <td>12.1962</td>\n",
       "      <td>-1.95134</td>\n",
       "    </tr>\n",
       "    <tr>\n",
       "      <th>18</th>\n",
       "      <td>Dishes and silverware</td>\n",
       "      <td>10.3041</td>\n",
       "      <td>12.2132</td>\n",
       "      <td>-1.9091</td>\n",
       "    </tr>\n",
       "    <tr>\n",
       "      <th>37</th>\n",
       "      <td>Lockbox</td>\n",
       "      <td>9.52381</td>\n",
       "      <td>11.4002</td>\n",
       "      <td>-1.87641</td>\n",
       "    </tr>\n",
       "    <tr>\n",
       "      <th>25</th>\n",
       "      <td>Stove</td>\n",
       "      <td>10.1802</td>\n",
       "      <td>11.975</td>\n",
       "      <td>-1.79486</td>\n",
       "    </tr>\n",
       "    <tr>\n",
       "      <th>5</th>\n",
       "      <td>TV</td>\n",
       "      <td>10.873</td>\n",
       "      <td>12.6439</td>\n",
       "      <td>-1.77097</td>\n",
       "    </tr>\n",
       "    <tr>\n",
       "      <th>26</th>\n",
       "      <td>Oven</td>\n",
       "      <td>10.1738</td>\n",
       "      <td>11.9191</td>\n",
       "      <td>-1.74527</td>\n",
       "    </tr>\n",
       "    <tr>\n",
       "      <th>29</th>\n",
       "      <td>Dishwasher</td>\n",
       "      <td>10.0944</td>\n",
       "      <td>11.7377</td>\n",
       "      <td>-1.64332</td>\n",
       "    </tr>\n",
       "    <tr>\n",
       "      <th>34</th>\n",
       "      <td>Garden or backyard</td>\n",
       "      <td>9.81855</td>\n",
       "      <td>11.4435</td>\n",
       "      <td>-1.625</td>\n",
       "    </tr>\n",
       "    <tr>\n",
       "      <th>3</th>\n",
       "      <td>Heating</td>\n",
       "      <td>10.9471</td>\n",
       "      <td>12.5368</td>\n",
       "      <td>-1.58973</td>\n",
       "    </tr>\n",
       "    <tr>\n",
       "      <th>23</th>\n",
       "      <td>Cooking basics</td>\n",
       "      <td>10.3363</td>\n",
       "      <td>11.8558</td>\n",
       "      <td>-1.51957</td>\n",
       "    </tr>\n",
       "    <tr>\n",
       "      <th>20</th>\n",
       "      <td>Microwave</td>\n",
       "      <td>10.5079</td>\n",
       "      <td>11.8272</td>\n",
       "      <td>-1.31922</td>\n",
       "    </tr>\n",
       "    <tr>\n",
       "      <th>36</th>\n",
       "      <td>Elevator</td>\n",
       "      <td>10.3543</td>\n",
       "      <td>11.2643</td>\n",
       "      <td>-0.910018</td>\n",
       "    </tr>\n",
       "    <tr>\n",
       "      <th>7</th>\n",
       "      <td>Kitchen</td>\n",
       "      <td>10.9691</td>\n",
       "      <td>11.8356</td>\n",
       "      <td>-0.866544</td>\n",
       "    </tr>\n",
       "    <tr>\n",
       "      <th>27</th>\n",
       "      <td>Free street parking</td>\n",
       "      <td>10.66</td>\n",
       "      <td>11.429</td>\n",
       "      <td>-0.768998</td>\n",
       "    </tr>\n",
       "    <tr>\n",
       "      <th>31</th>\n",
       "      <td>Extra pillows and blankets</td>\n",
       "      <td>10.6354</td>\n",
       "      <td>11.2971</td>\n",
       "      <td>-0.661723</td>\n",
       "    </tr>\n",
       "    <tr>\n",
       "      <th>28</th>\n",
       "      <td>First aid kit</td>\n",
       "      <td>10.7128</td>\n",
       "      <td>11.3655</td>\n",
       "      <td>-0.652696</td>\n",
       "    </tr>\n",
       "    <tr>\n",
       "      <th>14</th>\n",
       "      <td>Hot water</td>\n",
       "      <td>10.9149</td>\n",
       "      <td>11.5047</td>\n",
       "      <td>-0.589838</td>\n",
       "    </tr>\n",
       "    <tr>\n",
       "      <th>11</th>\n",
       "      <td>Washer</td>\n",
       "      <td>10.9798</td>\n",
       "      <td>11.4911</td>\n",
       "      <td>-0.511251</td>\n",
       "    </tr>\n",
       "    <tr>\n",
       "      <th>33</th>\n",
       "      <td>Patio or balcony</td>\n",
       "      <td>10.7521</td>\n",
       "      <td>11.2365</td>\n",
       "      <td>-0.484418</td>\n",
       "    </tr>\n",
       "    <tr>\n",
       "      <th>21</th>\n",
       "      <td>Private entrance</td>\n",
       "      <td>10.9283</td>\n",
       "      <td>11.2616</td>\n",
       "      <td>-0.333295</td>\n",
       "    </tr>\n",
       "    <tr>\n",
       "      <th>32</th>\n",
       "      <td>Cable TV</td>\n",
       "      <td>10.867</td>\n",
       "      <td>11.1854</td>\n",
       "      <td>-0.318394</td>\n",
       "    </tr>\n",
       "    <tr>\n",
       "      <th>13</th>\n",
       "      <td>Laptop-friendly workspace</td>\n",
       "      <td>11.0278</td>\n",
       "      <td>11.2379</td>\n",
       "      <td>-0.210086</td>\n",
       "    </tr>\n",
       "    <tr>\n",
       "      <th>22</th>\n",
       "      <td>Air conditioning</td>\n",
       "      <td>10.9882</td>\n",
       "      <td>11.19</td>\n",
       "      <td>-0.201784</td>\n",
       "    </tr>\n",
       "    <tr>\n",
       "      <th>35</th>\n",
       "      <td>Luggage dropoff allowed</td>\n",
       "      <td>10.9524</td>\n",
       "      <td>11.1164</td>\n",
       "      <td>-0.164003</td>\n",
       "    </tr>\n",
       "    <tr>\n",
       "      <th>9</th>\n",
       "      <td>Carbon monoxide alarm</td>\n",
       "      <td>11.0522</td>\n",
       "      <td>11.2083</td>\n",
       "      <td>-0.156111</td>\n",
       "    </tr>\n",
       "    <tr>\n",
       "      <th>39</th>\n",
       "      <td>Bathtub</td>\n",
       "      <td>11.0059</td>\n",
       "      <td>11.0961</td>\n",
       "      <td>-0.0901758</td>\n",
       "    </tr>\n",
       "    <tr>\n",
       "      <th>10</th>\n",
       "      <td>Dryer</td>\n",
       "      <td>11.0702</td>\n",
       "      <td>11.1324</td>\n",
       "      <td>-0.062186</td>\n",
       "    </tr>\n",
       "    <tr>\n",
       "      <th>15</th>\n",
       "      <td>Fire extinguisher</td>\n",
       "      <td>11.1363</td>\n",
       "      <td>10.9928</td>\n",
       "      <td>0.143458</td>\n",
       "    </tr>\n",
       "    <tr>\n",
       "      <th>30</th>\n",
       "      <td>Long term stays allowed</td>\n",
       "      <td>11.2712</td>\n",
       "      <td>10.9668</td>\n",
       "      <td>0.304463</td>\n",
       "    </tr>\n",
       "    <tr>\n",
       "      <th>2</th>\n",
       "      <td>Smoke alarm</td>\n",
       "      <td>11.17</td>\n",
       "      <td>9.96296</td>\n",
       "      <td>1.20709</td>\n",
       "    </tr>\n",
       "    <tr>\n",
       "      <th>16</th>\n",
       "      <td>Free parking on premises</td>\n",
       "      <td>11.56</td>\n",
       "      <td>10.3515</td>\n",
       "      <td>1.20853</td>\n",
       "    </tr>\n",
       "    <tr>\n",
       "      <th>38</th>\n",
       "      <td>Lock on bedroom door</td>\n",
       "      <td>12.4602</td>\n",
       "      <td>10.8245</td>\n",
       "      <td>1.63576</td>\n",
       "    </tr>\n",
       "  </tbody>\n",
       "</table>\n",
       "</div>"
      ],
      "text/plain": [
       "                  Amenity_Name Availability_30 for HAVING the Amenity  \\\n",
       "0                         Wifi                                10.8504   \n",
       "1                   Essentials                                10.7279   \n",
       "4                      Hangers                                10.7289   \n",
       "8                         Iron                                10.5996   \n",
       "6                   Hair dryer                                10.7702   \n",
       "24                  Bed linens                                9.96619   \n",
       "17                Refrigerator                                10.2838   \n",
       "12                     Shampoo                                10.6057   \n",
       "19                Coffee maker                                10.2449   \n",
       "18       Dishes and silverware                                10.3041   \n",
       "37                     Lockbox                                9.52381   \n",
       "25                       Stove                                10.1802   \n",
       "5                           TV                                 10.873   \n",
       "26                        Oven                                10.1738   \n",
       "29                  Dishwasher                                10.0944   \n",
       "34          Garden or backyard                                9.81855   \n",
       "3                      Heating                                10.9471   \n",
       "23              Cooking basics                                10.3363   \n",
       "20                   Microwave                                10.5079   \n",
       "36                    Elevator                                10.3543   \n",
       "7                      Kitchen                                10.9691   \n",
       "27         Free street parking                                  10.66   \n",
       "31  Extra pillows and blankets                                10.6354   \n",
       "28               First aid kit                                10.7128   \n",
       "14                   Hot water                                10.9149   \n",
       "11                      Washer                                10.9798   \n",
       "33            Patio or balcony                                10.7521   \n",
       "21            Private entrance                                10.9283   \n",
       "32                    Cable TV                                 10.867   \n",
       "13   Laptop-friendly workspace                                11.0278   \n",
       "22            Air conditioning                                10.9882   \n",
       "35     Luggage dropoff allowed                                10.9524   \n",
       "9        Carbon monoxide alarm                                11.0522   \n",
       "39                     Bathtub                                11.0059   \n",
       "10                       Dryer                                11.0702   \n",
       "15           Fire extinguisher                                11.1363   \n",
       "30     Long term stays allowed                                11.2712   \n",
       "2                  Smoke alarm                                  11.17   \n",
       "16    Free parking on premises                                  11.56   \n",
       "38        Lock on bedroom door                                12.4602   \n",
       "\n",
       "   Availability_30 for NOT HAVING the Amenity Availability Difference  \n",
       "0                                      18.697                -7.84655  \n",
       "1                                     16.8154                -6.08751  \n",
       "4                                     14.3486                -3.61973  \n",
       "8                                     13.1415                -2.54195  \n",
       "6                                     13.0933                -2.32315  \n",
       "24                                    12.2148                -2.24861  \n",
       "17                                    12.2957                -2.01191  \n",
       "12                                    12.5836                -1.97798  \n",
       "19                                    12.1962                -1.95134  \n",
       "18                                    12.2132                 -1.9091  \n",
       "37                                    11.4002                -1.87641  \n",
       "25                                     11.975                -1.79486  \n",
       "5                                     12.6439                -1.77097  \n",
       "26                                    11.9191                -1.74527  \n",
       "29                                    11.7377                -1.64332  \n",
       "34                                    11.4435                  -1.625  \n",
       "3                                     12.5368                -1.58973  \n",
       "23                                    11.8558                -1.51957  \n",
       "20                                    11.8272                -1.31922  \n",
       "36                                    11.2643               -0.910018  \n",
       "7                                     11.8356               -0.866544  \n",
       "27                                     11.429               -0.768998  \n",
       "31                                    11.2971               -0.661723  \n",
       "28                                    11.3655               -0.652696  \n",
       "14                                    11.5047               -0.589838  \n",
       "11                                    11.4911               -0.511251  \n",
       "33                                    11.2365               -0.484418  \n",
       "21                                    11.2616               -0.333295  \n",
       "32                                    11.1854               -0.318394  \n",
       "13                                    11.2379               -0.210086  \n",
       "22                                      11.19               -0.201784  \n",
       "35                                    11.1164               -0.164003  \n",
       "9                                     11.2083               -0.156111  \n",
       "39                                    11.0961              -0.0901758  \n",
       "10                                    11.1324               -0.062186  \n",
       "15                                    10.9928                0.143458  \n",
       "30                                    10.9668                0.304463  \n",
       "2                                     9.96296                 1.20709  \n",
       "16                                    10.3515                 1.20853  \n",
       "38                                    10.8245                 1.63576  "
      ]
     },
     "execution_count": 120,
     "metadata": {},
     "output_type": "execute_result"
    }
   ],
   "source": [
    "a_importance.sort_values('Availability Difference')"
   ]
  },
  {
   "cell_type": "markdown",
   "metadata": {},
   "source": [
    "It's clear that Wifi, Essentials, Hangers, Iron, Hair dryer, Bed linens and Refrigerator are the amenities that help increase the booking rate. Now let's take a look at whether they also help increase the price of the listing."
   ]
  },
  {
   "cell_type": "code",
   "execution_count": 125,
   "metadata": {},
   "outputs": [],
   "source": [
    "a_importance_p = pd.DataFrame(index=range(0,top), columns = [\"Amenity_Name\", \"Price for HAVING the Amenity\", \"Price for NOT HAVING the Amenity\", \"Price Difference\"])\n",
    "\n",
    "for i in range(top):\n",
    "    a_importance_p['Amenity_Name'][i] = a_count.index[i]\n",
    "    a_importance_p['Price for HAVING the Amenity'][i] = SantaM.groupby([a_count.index[i]])['price'].mean()[1]\n",
    "    a_importance_p['Price for NOT HAVING the Amenity'][i] = SantaM.groupby([a_count.index[i]])['price'].mean()[0]\n",
    "    a_importance_p['Price Difference'][i] = a_importance_p['Price for HAVING the Amenity'][i] - a_importance_p['Price for NOT HAVING the Amenity'][i]"
   ]
  },
  {
   "cell_type": "code",
   "execution_count": 128,
   "metadata": {},
   "outputs": [
    {
     "data": {
      "text/html": [
       "<div>\n",
       "<style scoped>\n",
       "    .dataframe tbody tr th:only-of-type {\n",
       "        vertical-align: middle;\n",
       "    }\n",
       "\n",
       "    .dataframe tbody tr th {\n",
       "        vertical-align: top;\n",
       "    }\n",
       "\n",
       "    .dataframe thead th {\n",
       "        text-align: right;\n",
       "    }\n",
       "</style>\n",
       "<table border=\"1\" class=\"dataframe\">\n",
       "  <thead>\n",
       "    <tr style=\"text-align: right;\">\n",
       "      <th></th>\n",
       "      <th>Amenity_Name</th>\n",
       "      <th>Price for HAVING the Amenity</th>\n",
       "      <th>Price for NOT HAVING the Amenity</th>\n",
       "      <th>Price Difference</th>\n",
       "    </tr>\n",
       "  </thead>\n",
       "  <tbody>\n",
       "    <tr>\n",
       "      <th>22</th>\n",
       "      <td>Air conditioning</td>\n",
       "      <td>225.319</td>\n",
       "      <td>151.825</td>\n",
       "      <td>73.4949</td>\n",
       "    </tr>\n",
       "    <tr>\n",
       "      <th>36</th>\n",
       "      <td>Elevator</td>\n",
       "      <td>240.335</td>\n",
       "      <td>178.691</td>\n",
       "      <td>61.6442</td>\n",
       "    </tr>\n",
       "    <tr>\n",
       "      <th>9</th>\n",
       "      <td>Carbon monoxide alarm</td>\n",
       "      <td>201.073</td>\n",
       "      <td>149.072</td>\n",
       "      <td>52.0013</td>\n",
       "    </tr>\n",
       "    <tr>\n",
       "      <th>16</th>\n",
       "      <td>Free parking on premises</td>\n",
       "      <td>206.952</td>\n",
       "      <td>166.605</td>\n",
       "      <td>40.3466</td>\n",
       "    </tr>\n",
       "    <tr>\n",
       "      <th>5</th>\n",
       "      <td>TV</td>\n",
       "      <td>195.173</td>\n",
       "      <td>159.962</td>\n",
       "      <td>35.2113</td>\n",
       "    </tr>\n",
       "    <tr>\n",
       "      <th>2</th>\n",
       "      <td>Smoke alarm</td>\n",
       "      <td>193.319</td>\n",
       "      <td>161.489</td>\n",
       "      <td>31.8304</td>\n",
       "    </tr>\n",
       "    <tr>\n",
       "      <th>39</th>\n",
       "      <td>Bathtub</td>\n",
       "      <td>212.537</td>\n",
       "      <td>187.167</td>\n",
       "      <td>25.3704</td>\n",
       "    </tr>\n",
       "    <tr>\n",
       "      <th>28</th>\n",
       "      <td>First aid kit</td>\n",
       "      <td>203.988</td>\n",
       "      <td>181.069</td>\n",
       "      <td>22.9193</td>\n",
       "    </tr>\n",
       "    <tr>\n",
       "      <th>32</th>\n",
       "      <td>Cable TV</td>\n",
       "      <td>204.333</td>\n",
       "      <td>184.638</td>\n",
       "      <td>19.6957</td>\n",
       "    </tr>\n",
       "    <tr>\n",
       "      <th>10</th>\n",
       "      <td>Dryer</td>\n",
       "      <td>193.456</td>\n",
       "      <td>180.983</td>\n",
       "      <td>12.4733</td>\n",
       "    </tr>\n",
       "    <tr>\n",
       "      <th>8</th>\n",
       "      <td>Iron</td>\n",
       "      <td>192.595</td>\n",
       "      <td>184.245</td>\n",
       "      <td>8.34942</td>\n",
       "    </tr>\n",
       "    <tr>\n",
       "      <th>6</th>\n",
       "      <td>Hair dryer</td>\n",
       "      <td>191.899</td>\n",
       "      <td>185.273</td>\n",
       "      <td>6.62585</td>\n",
       "    </tr>\n",
       "    <tr>\n",
       "      <th>13</th>\n",
       "      <td>Laptop-friendly workspace</td>\n",
       "      <td>192.569</td>\n",
       "      <td>186.564</td>\n",
       "      <td>6.00502</td>\n",
       "    </tr>\n",
       "    <tr>\n",
       "      <th>15</th>\n",
       "      <td>Fire extinguisher</td>\n",
       "      <td>192.994</td>\n",
       "      <td>187.707</td>\n",
       "      <td>5.2871</td>\n",
       "    </tr>\n",
       "    <tr>\n",
       "      <th>11</th>\n",
       "      <td>Washer</td>\n",
       "      <td>192.052</td>\n",
       "      <td>186.853</td>\n",
       "      <td>5.19957</td>\n",
       "    </tr>\n",
       "    <tr>\n",
       "      <th>12</th>\n",
       "      <td>Shampoo</td>\n",
       "      <td>191.748</td>\n",
       "      <td>188.68</td>\n",
       "      <td>3.06777</td>\n",
       "    </tr>\n",
       "    <tr>\n",
       "      <th>3</th>\n",
       "      <td>Heating</td>\n",
       "      <td>191.137</td>\n",
       "      <td>189.632</td>\n",
       "      <td>1.50516</td>\n",
       "    </tr>\n",
       "    <tr>\n",
       "      <th>21</th>\n",
       "      <td>Private entrance</td>\n",
       "      <td>191.68</td>\n",
       "      <td>190.228</td>\n",
       "      <td>1.45121</td>\n",
       "    </tr>\n",
       "    <tr>\n",
       "      <th>34</th>\n",
       "      <td>Garden or backyard</td>\n",
       "      <td>182.711</td>\n",
       "      <td>193.379</td>\n",
       "      <td>-10.6686</td>\n",
       "    </tr>\n",
       "    <tr>\n",
       "      <th>29</th>\n",
       "      <td>Dishwasher</td>\n",
       "      <td>184.212</td>\n",
       "      <td>195.516</td>\n",
       "      <td>-11.3046</td>\n",
       "    </tr>\n",
       "    <tr>\n",
       "      <th>33</th>\n",
       "      <td>Patio or balcony</td>\n",
       "      <td>181.672</td>\n",
       "      <td>195.364</td>\n",
       "      <td>-13.6919</td>\n",
       "    </tr>\n",
       "    <tr>\n",
       "      <th>35</th>\n",
       "      <td>Luggage dropoff allowed</td>\n",
       "      <td>178.259</td>\n",
       "      <td>194.336</td>\n",
       "      <td>-16.0771</td>\n",
       "    </tr>\n",
       "    <tr>\n",
       "      <th>31</th>\n",
       "      <td>Extra pillows and blankets</td>\n",
       "      <td>176.496</td>\n",
       "      <td>197.976</td>\n",
       "      <td>-21.4799</td>\n",
       "    </tr>\n",
       "    <tr>\n",
       "      <th>38</th>\n",
       "      <td>Lock on bedroom door</td>\n",
       "      <td>158.29</td>\n",
       "      <td>197.135</td>\n",
       "      <td>-38.8449</td>\n",
       "    </tr>\n",
       "    <tr>\n",
       "      <th>30</th>\n",
       "      <td>Long term stays allowed</td>\n",
       "      <td>166.098</td>\n",
       "      <td>206.272</td>\n",
       "      <td>-40.1735</td>\n",
       "    </tr>\n",
       "    <tr>\n",
       "      <th>27</th>\n",
       "      <td>Free street parking</td>\n",
       "      <td>168.574</td>\n",
       "      <td>209.417</td>\n",
       "      <td>-40.8429</td>\n",
       "    </tr>\n",
       "    <tr>\n",
       "      <th>7</th>\n",
       "      <td>Kitchen</td>\n",
       "      <td>185.17</td>\n",
       "      <td>229.802</td>\n",
       "      <td>-44.6328</td>\n",
       "    </tr>\n",
       "    <tr>\n",
       "      <th>19</th>\n",
       "      <td>Coffee maker</td>\n",
       "      <td>169.668</td>\n",
       "      <td>219.388</td>\n",
       "      <td>-49.7202</td>\n",
       "    </tr>\n",
       "    <tr>\n",
       "      <th>26</th>\n",
       "      <td>Oven</td>\n",
       "      <td>163.352</td>\n",
       "      <td>216.475</td>\n",
       "      <td>-53.123</td>\n",
       "    </tr>\n",
       "    <tr>\n",
       "      <th>25</th>\n",
       "      <td>Stove</td>\n",
       "      <td>164.149</td>\n",
       "      <td>217.581</td>\n",
       "      <td>-53.4328</td>\n",
       "    </tr>\n",
       "    <tr>\n",
       "      <th>24</th>\n",
       "      <td>Bed linens</td>\n",
       "      <td>164.231</td>\n",
       "      <td>218.173</td>\n",
       "      <td>-53.9426</td>\n",
       "    </tr>\n",
       "    <tr>\n",
       "      <th>23</th>\n",
       "      <td>Cooking basics</td>\n",
       "      <td>164.339</td>\n",
       "      <td>218.652</td>\n",
       "      <td>-54.3129</td>\n",
       "    </tr>\n",
       "    <tr>\n",
       "      <th>37</th>\n",
       "      <td>Lockbox</td>\n",
       "      <td>143.831</td>\n",
       "      <td>200.627</td>\n",
       "      <td>-56.7958</td>\n",
       "    </tr>\n",
       "    <tr>\n",
       "      <th>4</th>\n",
       "      <td>Hangers</td>\n",
       "      <td>184.605</td>\n",
       "      <td>250.165</td>\n",
       "      <td>-65.5598</td>\n",
       "    </tr>\n",
       "    <tr>\n",
       "      <th>20</th>\n",
       "      <td>Microwave</td>\n",
       "      <td>159.873</td>\n",
       "      <td>231.37</td>\n",
       "      <td>-71.4969</td>\n",
       "    </tr>\n",
       "    <tr>\n",
       "      <th>17</th>\n",
       "      <td>Refrigerator</td>\n",
       "      <td>158.848</td>\n",
       "      <td>239.866</td>\n",
       "      <td>-81.0184</td>\n",
       "    </tr>\n",
       "    <tr>\n",
       "      <th>18</th>\n",
       "      <td>Dishes and silverware</td>\n",
       "      <td>157.429</td>\n",
       "      <td>239.792</td>\n",
       "      <td>-82.3632</td>\n",
       "    </tr>\n",
       "    <tr>\n",
       "      <th>14</th>\n",
       "      <td>Hot water</td>\n",
       "      <td>162.681</td>\n",
       "      <td>262.409</td>\n",
       "      <td>-99.7285</td>\n",
       "    </tr>\n",
       "    <tr>\n",
       "      <th>0</th>\n",
       "      <td>Wifi</td>\n",
       "      <td>187.506</td>\n",
       "      <td>305.97</td>\n",
       "      <td>-118.464</td>\n",
       "    </tr>\n",
       "    <tr>\n",
       "      <th>1</th>\n",
       "      <td>Essentials</td>\n",
       "      <td>176.927</td>\n",
       "      <td>418.692</td>\n",
       "      <td>-241.765</td>\n",
       "    </tr>\n",
       "  </tbody>\n",
       "</table>\n",
       "</div>"
      ],
      "text/plain": [
       "                  Amenity_Name Price for HAVING the Amenity  \\\n",
       "22            Air conditioning                      225.319   \n",
       "36                    Elevator                      240.335   \n",
       "9        Carbon monoxide alarm                      201.073   \n",
       "16    Free parking on premises                      206.952   \n",
       "5                           TV                      195.173   \n",
       "2                  Smoke alarm                      193.319   \n",
       "39                     Bathtub                      212.537   \n",
       "28               First aid kit                      203.988   \n",
       "32                    Cable TV                      204.333   \n",
       "10                       Dryer                      193.456   \n",
       "8                         Iron                      192.595   \n",
       "6                   Hair dryer                      191.899   \n",
       "13   Laptop-friendly workspace                      192.569   \n",
       "15           Fire extinguisher                      192.994   \n",
       "11                      Washer                      192.052   \n",
       "12                     Shampoo                      191.748   \n",
       "3                      Heating                      191.137   \n",
       "21            Private entrance                       191.68   \n",
       "34          Garden or backyard                      182.711   \n",
       "29                  Dishwasher                      184.212   \n",
       "33            Patio or balcony                      181.672   \n",
       "35     Luggage dropoff allowed                      178.259   \n",
       "31  Extra pillows and blankets                      176.496   \n",
       "38        Lock on bedroom door                       158.29   \n",
       "30     Long term stays allowed                      166.098   \n",
       "27         Free street parking                      168.574   \n",
       "7                      Kitchen                       185.17   \n",
       "19                Coffee maker                      169.668   \n",
       "26                        Oven                      163.352   \n",
       "25                       Stove                      164.149   \n",
       "24                  Bed linens                      164.231   \n",
       "23              Cooking basics                      164.339   \n",
       "37                     Lockbox                      143.831   \n",
       "4                      Hangers                      184.605   \n",
       "20                   Microwave                      159.873   \n",
       "17                Refrigerator                      158.848   \n",
       "18       Dishes and silverware                      157.429   \n",
       "14                   Hot water                      162.681   \n",
       "0                         Wifi                      187.506   \n",
       "1                   Essentials                      176.927   \n",
       "\n",
       "   Price for NOT HAVING the Amenity Price Difference  \n",
       "22                          151.825          73.4949  \n",
       "36                          178.691          61.6442  \n",
       "9                           149.072          52.0013  \n",
       "16                          166.605          40.3466  \n",
       "5                           159.962          35.2113  \n",
       "2                           161.489          31.8304  \n",
       "39                          187.167          25.3704  \n",
       "28                          181.069          22.9193  \n",
       "32                          184.638          19.6957  \n",
       "10                          180.983          12.4733  \n",
       "8                           184.245          8.34942  \n",
       "6                           185.273          6.62585  \n",
       "13                          186.564          6.00502  \n",
       "15                          187.707           5.2871  \n",
       "11                          186.853          5.19957  \n",
       "12                           188.68          3.06777  \n",
       "3                           189.632          1.50516  \n",
       "21                          190.228          1.45121  \n",
       "34                          193.379         -10.6686  \n",
       "29                          195.516         -11.3046  \n",
       "33                          195.364         -13.6919  \n",
       "35                          194.336         -16.0771  \n",
       "31                          197.976         -21.4799  \n",
       "38                          197.135         -38.8449  \n",
       "30                          206.272         -40.1735  \n",
       "27                          209.417         -40.8429  \n",
       "7                           229.802         -44.6328  \n",
       "19                          219.388         -49.7202  \n",
       "26                          216.475          -53.123  \n",
       "25                          217.581         -53.4328  \n",
       "24                          218.173         -53.9426  \n",
       "23                          218.652         -54.3129  \n",
       "37                          200.627         -56.7958  \n",
       "4                           250.165         -65.5598  \n",
       "20                           231.37         -71.4969  \n",
       "17                          239.866         -81.0184  \n",
       "18                          239.792         -82.3632  \n",
       "14                          262.409         -99.7285  \n",
       "0                            305.97         -118.464  \n",
       "1                           418.692         -241.765  "
      ]
     },
     "execution_count": 128,
     "metadata": {},
     "output_type": "execute_result"
    }
   ],
   "source": [
    "a_importance_p.sort_values('Price Difference', ascending=False)"
   ]
  },
  {
   "cell_type": "markdown",
   "metadata": {},
   "source": [
    "It's interesting to see that in term of price, the most \"helpful\" amenities are AC, Elevator, CO alarm, Free parking on premises, TV, Smoke alarm, Bathtub, and First aid kit. None of the previously found \"helpful\" features for booking rate appears here. Based on my own observation, many travelers who come to Santa Monica are for short-term study and working (internship), so more basic amenities (such as Wifi, Essentials, Hangers and Refrigerator) help them settle down in this area at lower cost, while more upgraded amenities (such as AC, Elevator and Bathtub) do not help a listing become more popular likely because they increase the price. The results I found in answering Question 3 seem to support my observations. "
   ]
  },
  {
   "cell_type": "code",
   "execution_count": null,
   "metadata": {},
   "outputs": [],
   "source": []
  }
 ],
 "metadata": {
  "kernelspec": {
   "display_name": "Python 3",
   "language": "python",
   "name": "python3"
  },
  "language_info": {
   "codemirror_mode": {
    "name": "ipython",
    "version": 3
   },
   "file_extension": ".py",
   "mimetype": "text/x-python",
   "name": "python",
   "nbconvert_exporter": "python",
   "pygments_lexer": "ipython3",
   "version": "3.7.6"
  }
 },
 "nbformat": 4,
 "nbformat_minor": 4
}
